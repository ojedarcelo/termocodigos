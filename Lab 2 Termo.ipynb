{
 "cells": [
  {
   "cell_type": "markdown",
   "metadata": {},
   "source": [
    "## Lab 2 Termodinámica y Teoría Cinética 🧑‍🔬 - Conductividad Térmica\n",
    "\n",
    "- Camila Ferrus\n",
    "- Marcelo Ojeda"
   ]
  },
  {
   "cell_type": "code",
   "execution_count": 1,
   "metadata": {},
   "outputs": [],
   "source": [
    "import numpy as np\n",
    "import pandas as pd\n",
    "import matplotlib.pyplot as plt\n",
    "from sympy import Symbol"
   ]
  },
  {
   "cell_type": "code",
   "execution_count": 2,
   "metadata": {},
   "outputs": [],
   "source": [
    "err_pesa_g = 0.005\n",
    "err_piedemetro_mm = 0.5\n",
    "err_cronometro_s = 0.005\n",
    "err_termometro_celsius = 0.5\n",
    "\n",
    "espesor_termopanel_mm = 16\n",
    "espesor_vidrio_mm = 5"
   ]
  },
  {
   "cell_type": "markdown",
   "metadata": {},
   "source": [
    "### Manejo de errores\n",
    "\n",
    "Podríamos ignorar el error instrumental de la pesa y el cronómetro, ya que son muy pequeños en comparación a los errores aleatorios.\n",
    "\n",
    "Los errores se combinan de acuerdo a las fórmulas de la guía de análisis de errores de la página de los laboratorios."
   ]
  },
  {
   "cell_type": "markdown",
   "metadata": {},
   "source": [
    "### Calcular el cambio de calor con respecto al tiempo"
   ]
  },
  {
   "cell_type": "markdown",
   "metadata": {},
   "source": [
    "Utilizaremos la siguiente fórmula:\n",
    "\n",
    "$$ \\dot Q =\\frac{\\Delta Q}{\\Delta t} = \\frac{q_s \\cdot m}{\\Delta t} $$"
   ]
  },
  {
   "cell_type": "markdown",
   "metadata": {},
   "source": [
    "Donde $ q_s = 334 \\frac{kJ}{kg}$ es el calor latente de fusión, $ m $ la masa y $ \\Delta t $ un intervalo de tiempo."
   ]
  },
  {
   "cell_type": "markdown",
   "metadata": {},
   "source": [
    "### Calcular el coeficiente de conductividad térmica"
   ]
  },
  {
   "cell_type": "markdown",
   "metadata": {},
   "source": [
    "Utilizaremos la siguiente fórmula:\n",
    "\n",
    "\\begin{align}\n",
    "\\dot Q &= \\frac{\\Delta Q}{\\Delta t} = kA\\frac{\\Delta T}{h} \\\\\n",
    "\\Longrightarrow k &= \\dot Q \\frac{h}{A \\Delta T} \\\\\n",
    "\\end{align}\n"
   ]
  },
  {
   "cell_type": "markdown",
   "metadata": {},
   "source": [
    "Donde,\n",
    "\n",
    "- $\\Delta Q$: es el calor intercambiado en el tiempo, entre el foco frío y el caliente.\n",
    "- $\\Delta T$: diferencia de temperatura entre los focos frío y caliente\n",
    "\n",
    "- $k$: conductividad térmica (es el parámetro que buscamos)\n",
    "\n",
    "- $A$: área de la sección transversal del bloque de hielo\n",
    "\n",
    "- $h$: espesor de la muestra.\n",
    "\n"
   ]
  },
  {
   "cell_type": "code",
   "execution_count": 3,
   "metadata": {},
   "outputs": [],
   "source": [
    "def area_transversal_bloque(diametro_1, diametro_2):\n",
    "    area_1 = round(2 * np.pi * (diametro_1 / 2), 1)\n",
    "    area_2 = round(2 * np.pi * (diametro_2 / 2), 1)\n",
    "    \n",
    "    area = round(np.sqrt(((area_1 + area_2) / 2) ** 2), 2)\n",
    "    area_err = round(np.sqrt(((area_1 - area_2) / 2) ** 2), 2)\n",
    "    \n",
    "    return 'Área de la sección transversal del bloque: {} ± {} mm2'.format(area,\n",
    "                                                                          area_err)\n",
    "\n",
    "def encontrar_cambio_calor(masa, material: str):  # la masa se entrega en gramos, la función hace la conversión a kilos \n",
    "    \n",
    "    masa_kg = masa / 1000\n",
    "    calor = round(334 * masa_kg, 2)\n",
    "    \n",
    "    dq_dm = 334\n",
    "    calor_err = round(np.sqrt((dq_dm * (0.005 / 1000)) ** 2), 3)\n",
    "    \n",
    "    return 'Cambio de calor para {}: {} ± {} kJ/°C'.format(material, calor, calor_err)\n",
    "\n",
    "def encontrar_coeficiente(cambio_calor_kj, cambio_calor_err_kj, \n",
    "                          espesor, espesor_err,\n",
    "                          area, area_err,\n",
    "                          cambio_temperatura, cambio_temperatura_err,\n",
    "                          material: str):\n",
    "    \n",
    "    area_cm2 = area / 100\n",
    "    espesor_cm = espesor / 10\n",
    "    cambio_calor = cambio_calor_kj * 1000\n",
    "    cambio_calor_err = cambio_calor_err_kj * 1000\n",
    "    \n",
    "    coef = round(((cambio_calor * (espesor_cm / (area_cm2 * cambio_temperatura))) / 600), 2)   # en un intervalo de 10 min\n",
    "    \n",
    "    dk_dQ = (espesor_cm / (area_cm2 * cambio_temperatura))\n",
    "    err_calor = round(np.sqrt((dk_dQ * cambio_calor_err) ** 2), 3)\n",
    "    \n",
    "    dk_dh = (cambio_calor / (area_cm2 * cambio_temperatura))\n",
    "    err_espesor = round(np.sqrt((dk_dh * (espesor_err / 10)) ** 2), 3)\n",
    "    \n",
    "    dk_dA = - cambio_calor * (espesor_cm / ((area_cm2 ** 2) * cambio_temperatura))\n",
    "    err_area = round(np.sqrt((dk_dA * (area_err / 100)) ** 2), 3)\n",
    "    \n",
    "    dk_dT = - cambio_calor * (espesor_cm / (area_cm2 * (cambio_temperatura ** 2)))\n",
    "    err_temp = round(np.sqrt((dk_dT * cambio_temperatura_err) ** 2), 3)\n",
    "    \n",
    "    err_total = round(((err_calor + err_espesor + err_area + err_temp) / 600), 3)\n",
    "    \n",
    "    return 'Coeficiente de conductividad térmica para {}: {} ± {} W/cm°C'.format(material, coef, err_total)\n",
    "    \n",
    "    \n",
    "    \n",
    "    "
   ]
  },
  {
   "cell_type": "markdown",
   "metadata": {},
   "source": [
    "## Termopanel"
   ]
  },
  {
   "cell_type": "code",
   "execution_count": 4,
   "metadata": {},
   "outputs": [
    {
     "name": "stdout",
     "output_type": "stream",
     "text": [
      "        Termopanel\n",
      " ----------------------------\n",
      "Agua obtenida a temperatura ambiente: 15.02 g\n",
      "Agua obtenida a temperatura con vapor: 20.23 g\n",
      "Diferencia de temperatura: 54.0 ± 6 °C\n"
     ]
    }
   ],
   "source": [
    "d1_mm_tp = 76 # diámetro del hielo al principio\n",
    "d2_mm_tp = 71 # diámetro del hielo después de ponerle el vapor\n",
    "\n",
    "t_amb_celsius_tp = [23,23,23,23,23,23,23,23,23,22,22,22,22,22,22,22,22,21,21,21,21,21,21,20,20,21,20,20,20,20,20,20,19,19,19,19] # temperaturas ambiente\n",
    "t_vapor_celsius_tp = [62,62,61,62,62,62,62,62,62,61,61,61,65,65,67,67,67,67,67,68,67,65,67,67,65,65,65,67,67,67,67,67,67,67,67,\n",
    "                   67,67,68,68,68,69,69,69,69,70,70,70,70,70,70,71,70,71,71,71,72,72,73,72,72,72,72,73,73,74,74,74,74,73,74,\n",
    "                   73,73,73,74,74,74,74,75,75,75,75,75,75,75,75,75,75,75,75,75,75,75,75,75,75,75,75,75,75,75,75,75,75,75,75,\n",
    "                   75,75,75,75,75,75,75,75,75,75,75,75,75,75,75,75,75,75,75,75,75,75,75,75,75,75,75,75,75,75,75,75,75,75,75,  # temperaturas con vapor\n",
    "                   75,75,75,75,75,75,75,75,75,75,75,75,75,75,75,75,75,75,75,75,75,75,75,75,75,75,75,75,75,75,75,75,75,75,75,\n",
    "                   75,75,75,75,75,75,75,75,75,75,75,75,75,75,75,75,75,75,75,75,75,75,75,75,75,75,75,75,75,75,75,75,75,75,75,\n",
    "                   75,75,75,75,75,75,75,75,75,75,75,75,75,75,75,75,75,75,75,75,75,75,75,75,75,75,75,75,75,75,75,75,75,75,75]\n",
    "\n",
    "t_amb_median_tp = round(np.median(t_amb_celsius_tp), 1)                             # mediana de las temperaturas ambiente\n",
    "t_amb_std_tp = round(np.std(t_amb_celsius_tp, ddof=1), 1) + err_termometro_celsius  # desviación estándar de las temperaturas ambiente\n",
    "\n",
    "t_vapor_median_tp = round(np.median(t_vapor_celsius_tp), 1)                              # mediana de las temperaturas con vapor\n",
    "t_vapor_std_tp = round(np.std(t_vapor_celsius_tp, ddof=1), 1) + err_termometro_celsius   # desviación estándar de las temperaturas con vapor\n",
    "\n",
    "\n",
    "masa_vaso_g_tp = 102.37  # masa del vaso vacío\n",
    "\n",
    "m1_tp = round(117.39 - masa_vaso_g_tp, 2)   # agua obtenida a temperatura ambiente\n",
    "m2_tp = round(122.60 - masa_vaso_g_tp, 2)   # agua obtenida a temperatura con vapor\n",
    "\n",
    "print(' ' *7, 'Termopanel\\n', '-' *28)\n",
    "print(f'Agua obtenida a temperatura ambiente: {m1_tp} g')\n",
    "print(f'Agua obtenida a temperatura con vapor: {m2_tp} g')\n",
    "print('Diferencia de temperatura: {} ± {} °C'.format(t_vapor_median_tp - t_amb_median_tp,\n",
    "                                                     round(t_vapor_std_tp + t_amb_std_tp), 1))"
   ]
  },
  {
   "cell_type": "code",
   "execution_count": 5,
   "metadata": {},
   "outputs": [
    {
     "name": "stdout",
     "output_type": "stream",
     "text": [
      "Área de la sección transversal del bloque: 230.95 ± 7.85 mm2\n"
     ]
    }
   ],
   "source": [
    "area_bloque_tp = area_transversal_bloque(d1_mm_tp, d2_mm_tp)\n",
    "print(area_bloque_tp)"
   ]
  },
  {
   "cell_type": "code",
   "execution_count": 6,
   "metadata": {},
   "outputs": [
    {
     "name": "stdout",
     "output_type": "stream",
     "text": [
      "Cambio de calor para termopanel: 1.74 ± 0.002 kJ/°C\n"
     ]
    }
   ],
   "source": [
    "cambio_calor_tp = encontrar_cambio_calor(m2_tp - m1_tp, 'termopanel')\n",
    "print(cambio_calor_tp)"
   ]
  },
  {
   "cell_type": "code",
   "execution_count": 8,
   "metadata": {},
   "outputs": [
    {
     "name": "stdout",
     "output_type": "stream",
     "text": [
      "Coeficiente de conductividad térmica para termopanel: 0.04 ± 0.007 W/cm°C\n"
     ]
    }
   ],
   "source": [
    "coef_tp = encontrar_coeficiente(cambio_calor_kj= 1.74, cambio_calor_err_kj=0.002,\n",
    "                                espesor= espesor_termopanel_mm, espesor_err= err_piedemetro_mm,\n",
    "                                area= 230.95, area_err=7.85,\n",
    "                                cambio_temperatura= 54.0, cambio_temperatura_err=6,\n",
    "                                material='termopanel')\n",
    "print(coef_tp)"
   ]
  },
  {
   "cell_type": "markdown",
   "metadata": {},
   "source": [
    "## Vidrio"
   ]
  },
  {
   "cell_type": "code",
   "execution_count": 9,
   "metadata": {},
   "outputs": [],
   "source": [
    "d1_mm_vd = 68  # diámetro del hielo al principio\n",
    "d2_mm_vd = 63  # diámetro del hielo después de ponerle el vapor\n",
    "\n",
    "t_amb_celsius_vd = [23,23,23,23,23,23,23,23,23,22,22,22,22,22,22,22,22,21,21,21,21,21,21,20,20,21,20,20,20,20,20,20,19,19,19,19]  # temperaturas ambiente\n",
    "t_vapor_celsius_vd = [48,48,49,48,48,48,48,48,48,49,49,49,50,50,51,51,51,51,51,52,51,50,51,51,50,50,50,51,51,51,51,51,51,51,51,\n",
    "                   51,51,52,52,52,53,53,53,53,54,54,54,54,54,54,55,54,55,55,55,56,56,57,56,56,56,56,57,57,58,58,58,58,57,58,\n",
    "                   57,57,57,58,58,58,58,59,59,59,59,59,59,59,59,59,59,59,59,59,59,59,59,59,59,59,59,59,59,59,59,59,59,59,59,   # temperaturas con vapor\n",
    "                   59,59,59,59,59,59,59,59,59,59,59,59,59,59,59,59,59,59,59,59,59,59,59,59,59,59,59,59,59,59,59,59,59,59,59,\n",
    "                   59,59,59,59,59,59,59,59,59,59,59,59,59,59,59,59,59,59,59,59,59,59,59,59,59,59,59,59,59,59,59,59,59,59,59,\n",
    "                   59,59,59,59,59,59,59,59,59,59,59,59,59,59,59,59,59,59,59,59,59,59,59,59,59,59,59,59,59,59,59,59,59,59,59,\n",
    "                   59,59,59,59,59,59,59,59,59,59,59,59,59,59,59,59,59,59,59,59,59,59,59,59,59,59,59,59,59,59,59,59,59,59,59]\n",
    "\n",
    "t_amb_median_vd = round(np.median(t_amb_celsius_vd), 1)                             # mediana de las temperaturas ambiente\n",
    "t_amb_std_vd = round(np.std(t_amb_celsius_vd, ddof=1), 1) + err_termometro_celsius  # desviación estándar de las temperaturas ambiente\n",
    "\n",
    "t_vapor_median_vd = round(np.median(t_vapor_celsius_vd), 1)                              # mediana de las temperaturas con vapor\n",
    "t_vapor_std_vd = round(np.std(t_vapor_celsius_vd, ddof=1), 1) + err_termometro_celsius   # desviación estándar de las temperaturas con vapor\n",
    "\n",
    "masa_vaso_vd = 102.24  # masa del vaso vacío\n",
    "\n",
    "m1_vd = round(118.00 - masa_vaso_vd, 2)  # agua obtenida a temperatura ambiente\n",
    "m2_vd = round(159.88 - masa_vaso_vd, 2)  # agua obtenida a temperatura con vapor"
   ]
  },
  {
   "cell_type": "code",
   "execution_count": 10,
   "metadata": {},
   "outputs": [
    {
     "name": "stdout",
     "output_type": "stream",
     "text": [
      "        Vidrio\n",
      " ----------------------------\n",
      "Agua obtenida a temperatura ambiente: 15.76 g\n",
      "Agua obtenida a temperatura con vapor: 57.64 g\n",
      "Diferencia de temperatura: 38.0 ± 6 °C\n"
     ]
    }
   ],
   "source": [
    "print(' ' *7, 'Vidrio\\n', '-' *28)\n",
    "print(f'Agua obtenida a temperatura ambiente: {m1_vd} g')\n",
    "print(f'Agua obtenida a temperatura con vapor: {m2_vd} g')\n",
    "print('Diferencia de temperatura: {} ± {} °C'.format(t_vapor_median_vd - t_amb_median_vd,\n",
    "                                                     round(t_vapor_std_vd + t_amb_std_vd), 1))"
   ]
  },
  {
   "cell_type": "code",
   "execution_count": 11,
   "metadata": {},
   "outputs": [
    {
     "name": "stdout",
     "output_type": "stream",
     "text": [
      "Área de la sección transversal del bloque: 205.75 ± 7.85 mm2\n"
     ]
    }
   ],
   "source": [
    "area_bloque_tp = area_transversal_bloque(d1_mm_vd, d2_mm_vd)\n",
    "print(area_bloque_tp)"
   ]
  },
  {
   "cell_type": "code",
   "execution_count": 12,
   "metadata": {},
   "outputs": [
    {
     "name": "stdout",
     "output_type": "stream",
     "text": [
      "Cambio de calor para termopanel: 13.99 ± 0.002 kJ/°C\n"
     ]
    }
   ],
   "source": [
    "cambio_calor_tp = encontrar_cambio_calor(m2_vd - m1_vd, 'termopanel')\n",
    "print(cambio_calor_tp)"
   ]
  },
  {
   "cell_type": "code",
   "execution_count": 13,
   "metadata": {},
   "outputs": [
    {
     "name": "stdout",
     "output_type": "stream",
     "text": [
      "Coeficiente de conductividad térmica para vidrio: 0.15 ± 0.044 W/cm°C\n"
     ]
    }
   ],
   "source": [
    "coef_tp = encontrar_coeficiente(cambio_calor_kj= 13.99, cambio_calor_err_kj=0.002,\n",
    "                                espesor= espesor_vidrio_mm, espesor_err= err_piedemetro_mm,\n",
    "                                area= 205.75, area_err=7.85,\n",
    "                                cambio_temperatura= 38.0, cambio_temperatura_err=6,\n",
    "                                material='vidrio')\n",
    "print(coef_tp)"
   ]
  }
 ],
 "metadata": {
  "kernelspec": {
   "display_name": "Python 3 (ipykernel)",
   "language": "python",
   "name": "python3"
  },
  "language_info": {
   "codemirror_mode": {
    "name": "ipython",
    "version": 3
   },
   "file_extension": ".py",
   "mimetype": "text/x-python",
   "name": "python",
   "nbconvert_exporter": "python",
   "pygments_lexer": "ipython3",
   "version": "3.10.6"
  },
  "vscode": {
   "interpreter": {
    "hash": "8e7afcb160a0c66e121f2af697e3c7fecc1c6c21720499e332272532fe48572b"
   }
  }
 },
 "nbformat": 4,
 "nbformat_minor": 2
}
