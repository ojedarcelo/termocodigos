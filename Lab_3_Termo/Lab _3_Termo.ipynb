{
 "cells": [
  {
   "cell_type": "markdown",
   "metadata": {},
   "source": [
    "## Lab 3 Termodinámica y Teoría Cinética 🧑‍🔬 - Calor específico\n",
    "\n",
    "- Camila Ferrus\n",
    "- Marcelo Ojeda"
   ]
  },
  {
   "cell_type": "code",
   "execution_count": 3,
   "metadata": {},
   "outputs": [],
   "source": [
    "import numpy as np\n",
    "import pandas as pd"
   ]
  },
  {
   "cell_type": "code",
   "execution_count": 4,
   "metadata": {},
   "outputs": [],
   "source": [
    "err_pesa = 0.005\n",
    "err_termometro = 0.5"
   ]
  },
  {
   "cell_type": "markdown",
   "metadata": {},
   "source": [
    "### Calcular el Coeficiente para el calorímetro"
   ]
  },
  {
   "cell_type": "code",
   "execution_count": 12,
   "metadata": {},
   "outputs": [
    {
     "data": {
      "text/html": [
       "<div>\n",
       "<style scoped>\n",
       "    .dataframe tbody tr th:only-of-type {\n",
       "        vertical-align: middle;\n",
       "    }\n",
       "\n",
       "    .dataframe tbody tr th {\n",
       "        vertical-align: top;\n",
       "    }\n",
       "\n",
       "    .dataframe thead th {\n",
       "        text-align: right;\n",
       "    }\n",
       "</style>\n",
       "<table border=\"1\" class=\"dataframe\">\n",
       "  <thead>\n",
       "    <tr style=\"text-align: right;\">\n",
       "      <th></th>\n",
       "      <th>Sigla</th>\n",
       "      <th>Unidad</th>\n",
       "      <th>EXP1</th>\n",
       "      <th>EXP2</th>\n",
       "      <th>EXP3</th>\n",
       "    </tr>\n",
       "    <tr>\n",
       "      <th>DATOS CALORIMETRO</th>\n",
       "      <th></th>\n",
       "      <th></th>\n",
       "      <th></th>\n",
       "      <th></th>\n",
       "      <th></th>\n",
       "    </tr>\n",
       "  </thead>\n",
       "  <tbody>\n",
       "    <tr>\n",
       "      <th>Masa agua fría</th>\n",
       "      <td>m1</td>\n",
       "      <td>g</td>\n",
       "      <td>94.21</td>\n",
       "      <td>98.51</td>\n",
       "      <td>90.43</td>\n",
       "    </tr>\n",
       "    <tr>\n",
       "      <th>Masa agua caliente</th>\n",
       "      <td>m2</td>\n",
       "      <td>g</td>\n",
       "      <td>89.97</td>\n",
       "      <td>92.04</td>\n",
       "      <td>89.65</td>\n",
       "    </tr>\n",
       "    <tr>\n",
       "      <th>Temperatura agua fría</th>\n",
       "      <td>T1</td>\n",
       "      <td>°C</td>\n",
       "      <td>17.00</td>\n",
       "      <td>19.00</td>\n",
       "      <td>22.00</td>\n",
       "    </tr>\n",
       "    <tr>\n",
       "      <th>Temperatura agua caliente</th>\n",
       "      <td>T2</td>\n",
       "      <td>°C</td>\n",
       "      <td>53.00</td>\n",
       "      <td>66.00</td>\n",
       "      <td>71.00</td>\n",
       "    </tr>\n",
       "    <tr>\n",
       "      <th>Temperatura de la mezcla</th>\n",
       "      <td>T3</td>\n",
       "      <td>°C</td>\n",
       "      <td>33.00</td>\n",
       "      <td>40.00</td>\n",
       "      <td>44.00</td>\n",
       "    </tr>\n",
       "  </tbody>\n",
       "</table>\n",
       "</div>"
      ],
      "text/plain": [
       "                          Sigla Unidad   EXP1   EXP2   EXP3\n",
       "DATOS CALORIMETRO                                          \n",
       "Masa agua fría               m1      g  94.21  98.51  90.43\n",
       "Masa agua caliente           m2      g  89.97  92.04  89.65\n",
       "Temperatura agua fría        T1     °C  17.00  19.00  22.00\n",
       "Temperatura agua caliente    T2     °C  53.00  66.00  71.00\n",
       "Temperatura de la mezcla     T3     °C  33.00  40.00  44.00"
      ]
     },
     "execution_count": 12,
     "metadata": {},
     "output_type": "execute_result"
    }
   ],
   "source": [
    "path_calorimetro = 'datos_ck_calorimetro.csv'\n",
    "calorimetro = pd.read_csv(filepath_or_buffer=path_calorimetro, sep=';',index_col=0)\n",
    "calorimetro"
   ]
  },
  {
   "cell_type": "markdown",
   "metadata": {},
   "source": [
    "Sabemos que la cantidad de calor agregada o extraída de un sistema se puede calcular a través de la fórmula:\n",
    "\n",
    "$$ Q = c \\cdot m \\cdot \\Delta T $$\n",
    "$$ Q = C \\cdot \\Delta T $$\n",
    "\n",
    "Llamamos $C$ al capacidad calorífica de la sustancia, y $c$ al calor específico de la sustancia. El calor específico es la capacidad calorífica por unidad de masa de la sustancia.\n",
    "\n",
    "$$ c = \\frac{C}{m}$$\n",
    "\n",
    "Luego, en el experimento para determinar la capacidad calorífica del calorímetro, tenemos un equilibrio de calores de la forma:\n",
    "\n",
    "\\begin{align*}\n",
    "&Q_{ac} + Q_{cal} + Q_{af} = 0 \\\\\n",
    "&Q_{ac} = - Q_{cal} - Q_{af}\n",
    "\\end{align*}\n",
    "\n",
    "Donde:\n",
    "- $Q_{ac}$: es el calor agregado por el agua caliente.\n",
    "- $Q_{cal}$: es el calor recibido por el calorímetro.\n",
    "- $Q_{af}$: es el calor recibido por el agua fría.\n",
    "\n",
    "Luego:\n",
    " $$ c_{agua} \\cdot M_{2} \\left( T_{3} - T_{2} \\right) = - C_{cal} \\cdot \\left( T_{3} - T_{1} \\right) - c_{agua} \\cdot M_{1} \\cdot \\left( T_{3} - T_{1} \\right)$$\n",
    "\n",
    " Donde $c_{agua} = 1.0 \\frac{cal}{g°C}$, y $C_{cal}$ la capacidad calorífica del calorímetro, que es la que queremos calcular. Este parámetro no depende de la masa del calorímetro. Despejando para $C_{cal}$ tenemos que:\n",
    "\n",
    " $$C_{cal} = \\frac{c_{agua} \\cdot \\left( M_{2}\\left( T_{3} - T_{2} \\right) + M_{1}\\left( T_{3} - T_{1} \\right)\\right)}{T_{1} - T_{3}} \\left[ \\frac{cal}{°C} \\right]$$"
   ]
  },
  {
   "cell_type": "code",
   "execution_count": 13,
   "metadata": {},
   "outputs": [],
   "source": [
    "def c_calorimetro(tabla):\n",
    "    m1 = tabla.iloc[0]['EXP1':]\n",
    "    m2 = tabla.iloc[1]['EXP1':]\n",
    "    t1 = tabla.iloc[2]['EXP1':]\n",
    "    t2 = tabla.iloc[3]['EXP1':]\n",
    "    t3 = tabla.iloc[4]['EXP1':]\n",
    " \n",
    "    numerador = (m2 * (t3 - t2)) + (m1 * (t3 - t1))\n",
    "    denominador = t1 - t3\n",
    "    return np.abs(numerador / denominador)"
   ]
  },
  {
   "cell_type": "code",
   "execution_count": 10,
   "metadata": {},
   "outputs": [
    {
     "data": {
      "text/plain": [
       "EXP1      18.2525\n",
       "EXP2    15.444286\n",
       "EXP3       19.595\n",
       "dtype: object"
      ]
     },
     "execution_count": 10,
     "metadata": {},
     "output_type": "execute_result"
    }
   ],
   "source": [
    "c_calorimetro(calorimetro)"
   ]
  },
  {
   "cell_type": "code",
   "execution_count": 11,
   "metadata": {},
   "outputs": [
    {
     "name": "stdout",
     "output_type": "stream",
     "text": [
      "Calor específico del calorímetro: 17.76 ± 1.73 cal/°C\n"
     ]
    }
   ],
   "source": [
    "calorimetro_mean = round(np.mean(c_calorimetro(calorimetro)), 2)\n",
    "calorimetro_std = round(np.std(c_calorimetro(calorimetro)), 2)\n",
    "\n",
    "print('Calor específico del calorímetro: {} ± {} cal/°C'.format(\n",
    "    calorimetro_mean, calorimetro_std\n",
    "))"
   ]
  },
  {
   "cell_type": "markdown",
   "metadata": {},
   "source": [
    "La unidad es cal/°C porque en el calorímetro la capacidad calórica no depende de la masa."
   ]
  },
  {
   "cell_type": "markdown",
   "metadata": {},
   "source": [
    "### Calcular el Coeficiente para el Cobre"
   ]
  },
  {
   "cell_type": "markdown",
   "metadata": {},
   "source": [
    "\\begin{align*}\n",
    "&Q_{ac} + Q_{cal} + Q_{af} + Q_{Cu}= 0 \\\\\n",
    "&Q_{ac} = - Q_{cal} - Q_{af} - Q_{Cu}\n",
    "\\end{align*}\n",
    "\n",
    "$$c_{Cu} = \\frac{c_{agua} \\cdot \\left( M_{2}\\left( T_{3} - T_{2} \\right) + M_{1}\\left( T_{3} - T_{1} \\right)\\right) + C_{cal} \\left( T_{3} - T_{1} \\right)}{m_{Cu}\\left( T_{1} - T_{3}\\right)} \\left[ \\frac{cal}{g°C} \\right]$$"
   ]
  },
  {
   "cell_type": "code",
   "execution_count": 25,
   "metadata": {},
   "outputs": [
    {
     "data": {
      "text/html": [
       "<div>\n",
       "<style scoped>\n",
       "    .dataframe tbody tr th:only-of-type {\n",
       "        vertical-align: middle;\n",
       "    }\n",
       "\n",
       "    .dataframe tbody tr th {\n",
       "        vertical-align: top;\n",
       "    }\n",
       "\n",
       "    .dataframe thead th {\n",
       "        text-align: right;\n",
       "    }\n",
       "</style>\n",
       "<table border=\"1\" class=\"dataframe\">\n",
       "  <thead>\n",
       "    <tr style=\"text-align: right;\">\n",
       "      <th></th>\n",
       "      <th>Sigla</th>\n",
       "      <th>Unidad</th>\n",
       "      <th>EXP1</th>\n",
       "      <th>EXP2</th>\n",
       "      <th>EXP3</th>\n",
       "    </tr>\n",
       "    <tr>\n",
       "      <th>DATOS COBRE</th>\n",
       "      <th></th>\n",
       "      <th></th>\n",
       "      <th></th>\n",
       "      <th></th>\n",
       "      <th></th>\n",
       "    </tr>\n",
       "  </thead>\n",
       "  <tbody>\n",
       "    <tr>\n",
       "      <th>Masa agua fría</th>\n",
       "      <td>m1</td>\n",
       "      <td>g</td>\n",
       "      <td>95.51</td>\n",
       "      <td>92.86</td>\n",
       "      <td>92.63</td>\n",
       "    </tr>\n",
       "    <tr>\n",
       "      <th>Masa del cobre</th>\n",
       "      <td>mCu</td>\n",
       "      <td>g</td>\n",
       "      <td>95.16</td>\n",
       "      <td>95.16</td>\n",
       "      <td>95.16</td>\n",
       "    </tr>\n",
       "    <tr>\n",
       "      <th>Masa agua caliente</th>\n",
       "      <td>m2</td>\n",
       "      <td>g</td>\n",
       "      <td>92.39</td>\n",
       "      <td>98.26</td>\n",
       "      <td>90.41</td>\n",
       "    </tr>\n",
       "    <tr>\n",
       "      <th>Temperatura agua fría</th>\n",
       "      <td>T1</td>\n",
       "      <td>°C</td>\n",
       "      <td>20.00</td>\n",
       "      <td>23.00</td>\n",
       "      <td>24.00</td>\n",
       "    </tr>\n",
       "    <tr>\n",
       "      <th>Temperatura agua caliente</th>\n",
       "      <td>T2</td>\n",
       "      <td>°C</td>\n",
       "      <td>67.00</td>\n",
       "      <td>63.00</td>\n",
       "      <td>56.00</td>\n",
       "    </tr>\n",
       "    <tr>\n",
       "      <th>Temperatura de la mezcla</th>\n",
       "      <td>T3</td>\n",
       "      <td>°C</td>\n",
       "      <td>41.00</td>\n",
       "      <td>42.00</td>\n",
       "      <td>38.00</td>\n",
       "    </tr>\n",
       "  </tbody>\n",
       "</table>\n",
       "</div>"
      ],
      "text/plain": [
       "                          Sigla Unidad   EXP1   EXP2   EXP3\n",
       "DATOS COBRE                                                \n",
       "Masa agua fría               m1      g  95.51  92.86  92.63\n",
       "Masa del cobre              mCu      g  95.16  95.16  95.16\n",
       "Masa agua caliente           m2      g  92.39  98.26  90.41\n",
       "Temperatura agua fría        T1     °C  20.00  23.00  24.00\n",
       "Temperatura agua caliente    T2     °C  67.00  63.00  56.00\n",
       "Temperatura de la mezcla     T3     °C  41.00  42.00  38.00"
      ]
     },
     "execution_count": 25,
     "metadata": {},
     "output_type": "execute_result"
    }
   ],
   "source": [
    "path_cobre = 'datos_ck_cobre.csv'\n",
    "cobre = pd.read_csv(filepath_or_buffer=path_cobre, sep=';', index_col=0)\n",
    "cobre"
   ]
  },
  {
   "cell_type": "code",
   "execution_count": 32,
   "metadata": {},
   "outputs": [],
   "source": [
    "def c_cobre(tabla, c_esp_calorimetro):\n",
    "    m1 = tabla.iloc[0]['EXP1':]\n",
    "    m_cu = tabla.iloc[1]['EXP1':]\n",
    "    m2 = tabla.iloc[2]['EXP1':]\n",
    "    t1 = tabla.iloc[3]['EXP1':]\n",
    "    t2 = tabla.iloc[4]['EXP1':]\n",
    "    t3 = tabla.iloc[5]['EXP1':]\n",
    "    \n",
    "    n1 = m2 * (t3 - t2)\n",
    "    n2 = c_esp_calorimetro * (t3 - t1)\n",
    "    n3 = m1 * (t3 - t1)\n",
    "    denominador = m_cu * (t1 - t3)  \n",
    "    return np.abs((n1 + n2 + n3) / denominador)"
   ]
  },
  {
   "cell_type": "code",
   "execution_count": 33,
   "metadata": {},
   "outputs": [
    {
     "data": {
      "text/plain": [
       "EXP1    0.011745\n",
       "EXP2    0.021194\n",
       "EXP3     0.06149\n",
       "dtype: object"
      ]
     },
     "execution_count": 33,
     "metadata": {},
     "output_type": "execute_result"
    }
   ],
   "source": [
    "valores_cobre = c_cobre(cobre, calorimetro_mean)\n",
    "valores_cobre\n"
   ]
  },
  {
   "cell_type": "code",
   "execution_count": 34,
   "metadata": {},
   "outputs": [
    {
     "name": "stdout",
     "output_type": "stream",
     "text": [
      "Calor específico experimental del cobre: 0.031 ± 0.022 cal/g°C \n",
      "Valor teórico: 0.092 cal/g°C\n",
      "Diferencia porcentual: ~ 66.3%\n"
     ]
    }
   ],
   "source": [
    "cobre_mean = round(np.mean(valores_cobre), 3)\n",
    "cobre_std = round(np.std(valores_cobre), 3)\n",
    "c_cobre_teorico = 0.092\n",
    "\n",
    "print('Calor específico experimental del cobre: {} ± {} cal/g°C'.format(\n",
    "    cobre_mean, cobre_std\n",
    "), '\\nValor teórico: {} cal/g°C'.format(c_cobre_teorico))\n",
    "\n",
    "dif_porcentual = round((100 * (c_cobre_teorico - cobre_mean)) / c_cobre_teorico, 2)\n",
    "\n",
    "print('Diferencia porcentual: ~ {}%'.format(dif_porcentual))"
   ]
  },
  {
   "cell_type": "markdown",
   "metadata": {},
   "source": [
    "### Calcular el Coeficiente para el Aluminio"
   ]
  },
  {
   "cell_type": "markdown",
   "metadata": {},
   "source": [
    "\\begin{align*}\n",
    "&Q_{ac} + Q_{cal} + Q_{af} + Q_{Al}= 0 \\\\\n",
    "&Q_{ac} = - Q_{cal} - Q_{af} - Q_{Al}\n",
    "\\end{align*}\n",
    "\n",
    "$$c_{Al} = \\frac{c_{agua} \\cdot \\left( M_{2}\\left( T_{3} - T_{2} \\right) + M_{1}\\left( T_{3} - T_{1} \\right)\\right) + C_{cal} \\left( T_{3} - T_{1} \\right)}{m_{Al}\\left( T_{1} - T_{3}\\right)} \\left[ \\frac{cal}{g°C} \\right]$$"
   ]
  },
  {
   "cell_type": "code",
   "execution_count": 16,
   "metadata": {},
   "outputs": [
    {
     "data": {
      "text/html": [
       "<div>\n",
       "<style scoped>\n",
       "    .dataframe tbody tr th:only-of-type {\n",
       "        vertical-align: middle;\n",
       "    }\n",
       "\n",
       "    .dataframe tbody tr th {\n",
       "        vertical-align: top;\n",
       "    }\n",
       "\n",
       "    .dataframe thead th {\n",
       "        text-align: right;\n",
       "    }\n",
       "</style>\n",
       "<table border=\"1\" class=\"dataframe\">\n",
       "  <thead>\n",
       "    <tr style=\"text-align: right;\">\n",
       "      <th></th>\n",
       "      <th>Sigla</th>\n",
       "      <th>Unidad</th>\n",
       "      <th>EXP1</th>\n",
       "      <th>EXP2</th>\n",
       "      <th>EXP3</th>\n",
       "    </tr>\n",
       "    <tr>\n",
       "      <th>DATOS ALUMINIO</th>\n",
       "      <th></th>\n",
       "      <th></th>\n",
       "      <th></th>\n",
       "      <th></th>\n",
       "      <th></th>\n",
       "    </tr>\n",
       "  </thead>\n",
       "  <tbody>\n",
       "    <tr>\n",
       "      <th>Masa agua fría</th>\n",
       "      <td>m1</td>\n",
       "      <td>g</td>\n",
       "      <td>93.92</td>\n",
       "      <td>96.12</td>\n",
       "      <td>96.93</td>\n",
       "    </tr>\n",
       "    <tr>\n",
       "      <th>Masa del aluminio</th>\n",
       "      <td>mAl</td>\n",
       "      <td>g</td>\n",
       "      <td>18.35</td>\n",
       "      <td>18.35</td>\n",
       "      <td>18.35</td>\n",
       "    </tr>\n",
       "    <tr>\n",
       "      <th>Masa agua caliente</th>\n",
       "      <td>m2</td>\n",
       "      <td>g</td>\n",
       "      <td>89.36</td>\n",
       "      <td>93.28</td>\n",
       "      <td>88.54</td>\n",
       "    </tr>\n",
       "    <tr>\n",
       "      <th>Temperatura agua fría</th>\n",
       "      <td>T1</td>\n",
       "      <td>°C</td>\n",
       "      <td>21.00</td>\n",
       "      <td>23.00</td>\n",
       "      <td>22.00</td>\n",
       "    </tr>\n",
       "    <tr>\n",
       "      <th>Temperatura agua caliente</th>\n",
       "      <td>T2</td>\n",
       "      <td>°C</td>\n",
       "      <td>76.00</td>\n",
       "      <td>71.00</td>\n",
       "      <td>66.00</td>\n",
       "    </tr>\n",
       "    <tr>\n",
       "      <th>Temperatura de la mezcla</th>\n",
       "      <td>T3</td>\n",
       "      <td>°C</td>\n",
       "      <td>45.00</td>\n",
       "      <td>45.00</td>\n",
       "      <td>41.00</td>\n",
       "    </tr>\n",
       "  </tbody>\n",
       "</table>\n",
       "</div>"
      ],
      "text/plain": [
       "                          Sigla Unidad   EXP1   EXP2   EXP3\n",
       "DATOS ALUMINIO                                             \n",
       "Masa agua fría               m1      g  93.92  96.12  96.93\n",
       "Masa del aluminio           mAl      g  18.35  18.35  18.35\n",
       "Masa agua caliente           m2      g  89.36  93.28  88.54\n",
       "Temperatura agua fría        T1     °C  21.00  23.00  22.00\n",
       "Temperatura agua caliente    T2     °C  76.00  71.00  66.00\n",
       "Temperatura de la mezcla     T3     °C  45.00  45.00  41.00"
      ]
     },
     "execution_count": 16,
     "metadata": {},
     "output_type": "execute_result"
    }
   ],
   "source": [
    "path_aluminio = 'datos_ck_aluminio.csv'\n",
    "aluminio = pd.read_csv(filepath_or_buffer=path_aluminio, sep=';',index_col=0)\n",
    "aluminio"
   ]
  },
  {
   "cell_type": "code",
   "execution_count": 17,
   "metadata": {},
   "outputs": [],
   "source": [
    "def c_aluminio(tabla, c_esp_calorimetro):\n",
    "    m1 = tabla.iloc[0]['EXP1':]\n",
    "    m_al = tabla.iloc[1]['EXP1':]\n",
    "    m2 = tabla.iloc[2]['EXP1':]\n",
    "    t1 = tabla.iloc[3]['EXP1':]\n",
    "    t2 = tabla.iloc[4]['EXP1':]\n",
    "    t3 = tabla.iloc[5]['EXP1':]\n",
    "    \n",
    "    n1 = m2 * (t3 - t2)\n",
    "    n2 = c_esp_calorimetro * (t3 - t1)\n",
    "    n3 = m1 * (t3 - t1)\n",
    "    denominador = m_al * (t1 - t3)\n",
    "    return np.abs((n1 + n2 + n3) / denominador)"
   ]
  },
  {
   "cell_type": "code",
   "execution_count": 19,
   "metadata": {},
   "outputs": [
    {
     "data": {
      "text/plain": [
       "EXP1    0.203996\n",
       "EXP2    0.198365\n",
       "EXP3    0.098638\n",
       "dtype: object"
      ]
     },
     "execution_count": 19,
     "metadata": {},
     "output_type": "execute_result"
    }
   ],
   "source": [
    "valores_aluminio = c_aluminio(aluminio, calorimetro_mean)\n",
    "valores_aluminio"
   ]
  },
  {
   "cell_type": "code",
   "execution_count": 20,
   "metadata": {},
   "outputs": [
    {
     "name": "stdout",
     "output_type": "stream",
     "text": [
      "Calor específico experimental del aluminio: 0.167 ± 0.048 cal/g°C \n",
      "Valor teórico: 0.214 cal/g°C\n",
      "Diferencia porcentual: ~ 21.96%\n"
     ]
    }
   ],
   "source": [
    "aluminio_mean = round(np.mean(valores_aluminio), 3)\n",
    "aluminio_std = round(np.std(valores_aluminio), 3)\n",
    "c_aluminio_teorico = 0.214\n",
    "\n",
    "print('Calor específico experimental del aluminio: {} ± {} cal/g°C'.format(\n",
    "    aluminio_mean, aluminio_std\n",
    "), '\\nValor teórico: {} cal/g°C'.format(c_aluminio_teorico))\n",
    "\n",
    "dif_porcentual = round((100 * (c_aluminio_teorico - aluminio_mean)) / c_aluminio_teorico, 2)\n",
    "\n",
    "print('Diferencia porcentual: ~ {}%'.format(dif_porcentual))"
   ]
  }
 ],
 "metadata": {
  "kernelspec": {
   "display_name": "Python 3.10.6 64-bit",
   "language": "python",
   "name": "python3"
  },
  "language_info": {
   "codemirror_mode": {
    "name": "ipython",
    "version": 3
   },
   "file_extension": ".py",
   "mimetype": "text/x-python",
   "name": "python",
   "nbconvert_exporter": "python",
   "pygments_lexer": "ipython3",
   "version": "3.10.6"
  },
  "orig_nbformat": 4,
  "vscode": {
   "interpreter": {
    "hash": "8e7afcb160a0c66e121f2af697e3c7fecc1c6c21720499e332272532fe48572b"
   }
  }
 },
 "nbformat": 4,
 "nbformat_minor": 2
}
