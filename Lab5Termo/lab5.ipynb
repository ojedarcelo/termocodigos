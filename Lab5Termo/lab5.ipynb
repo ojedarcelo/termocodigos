{
 "cells": [
  {
   "cell_type": "markdown",
   "metadata": {},
   "source": [
    "# Laboratorio 5 Termodinámica y Teoría cinética\n",
    "\n",
    "# Ley de Stefan-Boltzmann (Baja temperatura)"
   ]
  },
  {
   "cell_type": "markdown",
   "metadata": {},
   "source": [
    "Si el detector en el sensor de radiación opera a la temperatura del cero absoluto (0 K), se producirá eventualmente un voltaje directamente proporcional a la intensidad de la radiación que incide. Sin embargo, el detector no está a la temperatura del cero absoluto, así que también está irradiando energía térmica el detector mismo. Según la ley de Stefan-Boltzmann, irradia a una razón:\n",
    "\n",
    "$$R_{det} = sT^{4}_{det}$$\n",
    "\n",
    "El voltaje producido por el sensor es proporcional a la radiación incidente en el detector menos la radiación emitida. Matemáticamente la radiación neta del sensor o el voltaje producido por el sensor de radiación es proporcional a\n",
    "\n",
    "$$R_{net} = R_{rad} - R_{det} = s(T^{4} - T^{4}_{det})$$\n",
    "\n",
    "Cuando realizamos el experimento, debemos registrar $R_{amb}$, la resistencia del termistor a temperatura ambiente."
   ]
  },
  {
   "cell_type": "code",
   "execution_count": 40,
   "metadata": {},
   "outputs": [],
   "source": [
    "import numpy as np\n",
    "import pandas as pd\n",
    "import matplotlib.pyplot as plt\n",
    "import scipy.stats as stats\n",
    "import astropy.constants as const\n",
    "from matplotlib.ticker import (MultipleLocator, AutoMinorLocator)\n",
    "from scipy.optimize import curve_fit"
   ]
  },
  {
   "cell_type": "code",
   "execution_count": 2,
   "metadata": {},
   "outputs": [],
   "source": [
    "t_amb = 22 + 273#  Medimos la temperatura con termocupla"
   ]
  },
  {
   "cell_type": "markdown",
   "metadata": {},
   "source": [
    "## Tabla de conversión de resistencias a temperatura"
   ]
  },
  {
   "cell_type": "code",
   "execution_count": 3,
   "metadata": {},
   "outputs": [
    {
     "data": {
      "text/html": [
       "<div>\n",
       "<style scoped>\n",
       "    .dataframe tbody tr th:only-of-type {\n",
       "        vertical-align: middle;\n",
       "    }\n",
       "\n",
       "    .dataframe tbody tr th {\n",
       "        vertical-align: top;\n",
       "    }\n",
       "\n",
       "    .dataframe thead th {\n",
       "        text-align: right;\n",
       "    }\n",
       "</style>\n",
       "<table border=\"1\" class=\"dataframe\">\n",
       "  <thead>\n",
       "    <tr style=\"text-align: right;\">\n",
       "      <th></th>\n",
       "      <th>Resistencia (Ohm)</th>\n",
       "      <th>Temperatura (°C)</th>\n",
       "    </tr>\n",
       "  </thead>\n",
       "  <tbody>\n",
       "    <tr>\n",
       "      <th>0</th>\n",
       "      <td>79422.0</td>\n",
       "      <td>30</td>\n",
       "    </tr>\n",
       "    <tr>\n",
       "      <th>1</th>\n",
       "      <td>72560.0</td>\n",
       "      <td>32</td>\n",
       "    </tr>\n",
       "    <tr>\n",
       "      <th>2</th>\n",
       "      <td>66356.0</td>\n",
       "      <td>34</td>\n",
       "    </tr>\n",
       "    <tr>\n",
       "      <th>3</th>\n",
       "      <td>60743.0</td>\n",
       "      <td>36</td>\n",
       "    </tr>\n",
       "    <tr>\n",
       "      <th>4</th>\n",
       "      <td>55658.0</td>\n",
       "      <td>38</td>\n",
       "    </tr>\n",
       "    <tr>\n",
       "      <th>5</th>\n",
       "      <td>51048.0</td>\n",
       "      <td>40</td>\n",
       "    </tr>\n",
       "    <tr>\n",
       "      <th>6</th>\n",
       "      <td>46863.0</td>\n",
       "      <td>42</td>\n",
       "    </tr>\n",
       "    <tr>\n",
       "      <th>7</th>\n",
       "      <td>43062.0</td>\n",
       "      <td>44</td>\n",
       "    </tr>\n",
       "    <tr>\n",
       "      <th>8</th>\n",
       "      <td>39605.0</td>\n",
       "      <td>46</td>\n",
       "    </tr>\n",
       "    <tr>\n",
       "      <th>9</th>\n",
       "      <td>36458.0</td>\n",
       "      <td>48</td>\n",
       "    </tr>\n",
       "    <tr>\n",
       "      <th>10</th>\n",
       "      <td>33591.0</td>\n",
       "      <td>50</td>\n",
       "    </tr>\n",
       "    <tr>\n",
       "      <th>11</th>\n",
       "      <td>30976.0</td>\n",
       "      <td>52</td>\n",
       "    </tr>\n",
       "    <tr>\n",
       "      <th>12</th>\n",
       "      <td>28590.0</td>\n",
       "      <td>54</td>\n",
       "    </tr>\n",
       "    <tr>\n",
       "      <th>13</th>\n",
       "      <td>26409.0</td>\n",
       "      <td>56</td>\n",
       "    </tr>\n",
       "    <tr>\n",
       "      <th>14</th>\n",
       "      <td>24415.0</td>\n",
       "      <td>58</td>\n",
       "    </tr>\n",
       "    <tr>\n",
       "      <th>15</th>\n",
       "      <td>22590.0</td>\n",
       "      <td>60</td>\n",
       "    </tr>\n",
       "    <tr>\n",
       "      <th>16</th>\n",
       "      <td>20919.0</td>\n",
       "      <td>62</td>\n",
       "    </tr>\n",
       "    <tr>\n",
       "      <th>17</th>\n",
       "      <td>19386.0</td>\n",
       "      <td>64</td>\n",
       "    </tr>\n",
       "    <tr>\n",
       "      <th>18</th>\n",
       "      <td>17980.0</td>\n",
       "      <td>66</td>\n",
       "    </tr>\n",
       "    <tr>\n",
       "      <th>19</th>\n",
       "      <td>16689.0</td>\n",
       "      <td>68</td>\n",
       "    </tr>\n",
       "    <tr>\n",
       "      <th>20</th>\n",
       "      <td>15502.0</td>\n",
       "      <td>70</td>\n",
       "    </tr>\n",
       "    <tr>\n",
       "      <th>21</th>\n",
       "      <td>14410.0</td>\n",
       "      <td>72</td>\n",
       "    </tr>\n",
       "    <tr>\n",
       "      <th>22</th>\n",
       "      <td>13405.0</td>\n",
       "      <td>74</td>\n",
       "    </tr>\n",
       "    <tr>\n",
       "      <th>23</th>\n",
       "      <td>12479.0</td>\n",
       "      <td>76</td>\n",
       "    </tr>\n",
       "    <tr>\n",
       "      <th>24</th>\n",
       "      <td>11625.0</td>\n",
       "      <td>78</td>\n",
       "    </tr>\n",
       "    <tr>\n",
       "      <th>25</th>\n",
       "      <td>10837.0</td>\n",
       "      <td>80</td>\n",
       "    </tr>\n",
       "    <tr>\n",
       "      <th>26</th>\n",
       "      <td>10100.0</td>\n",
       "      <td>82</td>\n",
       "    </tr>\n",
       "    <tr>\n",
       "      <th>27</th>\n",
       "      <td>9437.7</td>\n",
       "      <td>84</td>\n",
       "    </tr>\n",
       "    <tr>\n",
       "      <th>28</th>\n",
       "      <td>8816.0</td>\n",
       "      <td>86</td>\n",
       "    </tr>\n",
       "    <tr>\n",
       "      <th>29</th>\n",
       "      <td>8240.6</td>\n",
       "      <td>88</td>\n",
       "    </tr>\n",
       "    <tr>\n",
       "      <th>30</th>\n",
       "      <td>7707.7</td>\n",
       "      <td>90</td>\n",
       "    </tr>\n",
       "    <tr>\n",
       "      <th>31</th>\n",
       "      <td>7214.0</td>\n",
       "      <td>92</td>\n",
       "    </tr>\n",
       "    <tr>\n",
       "      <th>32</th>\n",
       "      <td>6755.9</td>\n",
       "      <td>94</td>\n",
       "    </tr>\n",
       "    <tr>\n",
       "      <th>33</th>\n",
       "      <td>6330.8</td>\n",
       "      <td>96</td>\n",
       "    </tr>\n",
       "    <tr>\n",
       "      <th>34</th>\n",
       "      <td>5936.1</td>\n",
       "      <td>98</td>\n",
       "    </tr>\n",
       "    <tr>\n",
       "      <th>35</th>\n",
       "      <td>5569.3</td>\n",
       "      <td>100</td>\n",
       "    </tr>\n",
       "    <tr>\n",
       "      <th>36</th>\n",
       "      <td>5228.1</td>\n",
       "      <td>102</td>\n",
       "    </tr>\n",
       "    <tr>\n",
       "      <th>37</th>\n",
       "      <td>4910.7</td>\n",
       "      <td>104</td>\n",
       "    </tr>\n",
       "    <tr>\n",
       "      <th>38</th>\n",
       "      <td>4615.1</td>\n",
       "      <td>106</td>\n",
       "    </tr>\n",
       "    <tr>\n",
       "      <th>39</th>\n",
       "      <td>4339.7</td>\n",
       "      <td>108</td>\n",
       "    </tr>\n",
       "    <tr>\n",
       "      <th>40</th>\n",
       "      <td>4082.9</td>\n",
       "      <td>110</td>\n",
       "    </tr>\n",
       "    <tr>\n",
       "      <th>41</th>\n",
       "      <td>3843.4</td>\n",
       "      <td>112</td>\n",
       "    </tr>\n",
       "    <tr>\n",
       "      <th>42</th>\n",
       "      <td>3619.8</td>\n",
       "      <td>114</td>\n",
       "    </tr>\n",
       "    <tr>\n",
       "      <th>43</th>\n",
       "      <td>3411.0</td>\n",
       "      <td>116</td>\n",
       "    </tr>\n",
       "    <tr>\n",
       "      <th>44</th>\n",
       "      <td>3215.8</td>\n",
       "      <td>118</td>\n",
       "    </tr>\n",
       "    <tr>\n",
       "      <th>45</th>\n",
       "      <td>3033.3</td>\n",
       "      <td>120</td>\n",
       "    </tr>\n",
       "    <tr>\n",
       "      <th>46</th>\n",
       "      <td>2862.5</td>\n",
       "      <td>122</td>\n",
       "    </tr>\n",
       "    <tr>\n",
       "      <th>47</th>\n",
       "      <td>2702.7</td>\n",
       "      <td>124</td>\n",
       "    </tr>\n",
       "    <tr>\n",
       "      <th>48</th>\n",
       "      <td>2553.0</td>\n",
       "      <td>126</td>\n",
       "    </tr>\n",
       "    <tr>\n",
       "      <th>49</th>\n",
       "      <td>2412.6</td>\n",
       "      <td>128</td>\n",
       "    </tr>\n",
       "    <tr>\n",
       "      <th>50</th>\n",
       "      <td>2281.0</td>\n",
       "      <td>130</td>\n",
       "    </tr>\n",
       "    <tr>\n",
       "      <th>51</th>\n",
       "      <td>2157.6</td>\n",
       "      <td>132</td>\n",
       "    </tr>\n",
       "    <tr>\n",
       "      <th>52</th>\n",
       "      <td>2041.7</td>\n",
       "      <td>134</td>\n",
       "    </tr>\n",
       "  </tbody>\n",
       "</table>\n",
       "</div>"
      ],
      "text/plain": [
       "    Resistencia (Ohm)  Temperatura (°C)\n",
       "0             79422.0                30\n",
       "1             72560.0                32\n",
       "2             66356.0                34\n",
       "3             60743.0                36\n",
       "4             55658.0                38\n",
       "5             51048.0                40\n",
       "6             46863.0                42\n",
       "7             43062.0                44\n",
       "8             39605.0                46\n",
       "9             36458.0                48\n",
       "10            33591.0                50\n",
       "11            30976.0                52\n",
       "12            28590.0                54\n",
       "13            26409.0                56\n",
       "14            24415.0                58\n",
       "15            22590.0                60\n",
       "16            20919.0                62\n",
       "17            19386.0                64\n",
       "18            17980.0                66\n",
       "19            16689.0                68\n",
       "20            15502.0                70\n",
       "21            14410.0                72\n",
       "22            13405.0                74\n",
       "23            12479.0                76\n",
       "24            11625.0                78\n",
       "25            10837.0                80\n",
       "26            10100.0                82\n",
       "27             9437.7                84\n",
       "28             8816.0                86\n",
       "29             8240.6                88\n",
       "30             7707.7                90\n",
       "31             7214.0                92\n",
       "32             6755.9                94\n",
       "33             6330.8                96\n",
       "34             5936.1                98\n",
       "35             5569.3               100\n",
       "36             5228.1               102\n",
       "37             4910.7               104\n",
       "38             4615.1               106\n",
       "39             4339.7               108\n",
       "40             4082.9               110\n",
       "41             3843.4               112\n",
       "42             3619.8               114\n",
       "43             3411.0               116\n",
       "44             3215.8               118\n",
       "45             3033.3               120\n",
       "46             2862.5               122\n",
       "47             2702.7               124\n",
       "48             2553.0               126\n",
       "49             2412.6               128\n",
       "50             2281.0               130\n",
       "51             2157.6               132\n",
       "52             2041.7               134"
      ]
     },
     "execution_count": 3,
     "metadata": {},
     "output_type": "execute_result"
    }
   ],
   "source": [
    "resistencias = pd.read_csv('tabla_resistencias.csv', sep=';')\n",
    "resistencias"
   ]
  },
  {
   "cell_type": "code",
   "execution_count": 4,
   "metadata": {},
   "outputs": [
    {
     "data": {
      "text/plain": [
       "<matplotlib.legend.Legend at 0x1b060131c30>"
      ]
     },
     "execution_count": 4,
     "metadata": {},
     "output_type": "execute_result"
    },
    {
     "data": {
      "image/png": "[encoded data removed]",
      "text/plain": [
       "<Figure size 720x720 with 1 Axes>"
      ]
     },
     "metadata": {
      "needs_background": "light"
     },
     "output_type": "display_data"
    }
   ],
   "source": [
    "fig, ax = plt.subplots(figsize=(10,10))\n",
    "ax.scatter(resistencias['Resistencia (Ohm)'] / 1000, resistencias['Temperatura (°C)'], marker='+', color='black', s=10, label='Datos')\n",
    "ax.set_title('Relación entre Resistencia y Temperatura', fontsize=20)\n",
    "ax.set_xlabel('Resistencia (kOhm)', fontsize=20)\n",
    "ax.set_ylabel('Temperatura °C', fontsize=20)\n",
    "ax.tick_params(axis='both', labelsize=15, direction='in', right=True, top=True,\n",
    "              length=6, width=1.5, grid_color='black', grid_alpha=1)\n",
    "\n",
    "ax.xaxis.set_minor_locator(MultipleLocator(1500))\n",
    "ax.yaxis.set_minor_locator(MultipleLocator(2))\n",
    "ax.tick_params(which='minor', length=4, color='black', direction='in', top=True, right=True)\n",
    "ax.legend(fontsize=20, markerscale=3)"
   ]
  },
  {
   "cell_type": "code",
   "execution_count": 5,
   "metadata": {},
   "outputs": [],
   "source": [
    "def modelo(resistencias, A, B, C):\n",
    "    return (B / (np.log(resistencias/A))) + C"
   ]
  },
  {
   "cell_type": "code",
   "execution_count": 6,
   "metadata": {},
   "outputs": [
    {
     "data": {
      "text/plain": [
       "array([ 6.41389225e-03,  5.88312630e+03, -3.30251512e+02])"
      ]
     },
     "execution_count": 6,
     "metadata": {},
     "output_type": "execute_result"
    }
   ],
   "source": [
    "popt, pcov = curve_fit(modelo, resistencias['Resistencia (Ohm)'], resistencias['Temperatura (°C)'])\n",
    "popt"
   ]
  },
  {
   "cell_type": "code",
   "execution_count": 7,
   "metadata": {},
   "outputs": [],
   "source": [
    "def modelo_ajuste(resistencias, ajuste):\n",
    "    return ajuste[1] / (np.log(resistencias/ajuste[0])) + ajuste[2]"
   ]
  },
  {
   "cell_type": "code",
   "execution_count": 8,
   "metadata": {},
   "outputs": [],
   "source": [
    "res_linspace = np.linspace(min(resistencias['Resistencia (Ohm)']), max(resistencias['Resistencia (Ohm)']), 100)"
   ]
  },
  {
   "cell_type": "code",
   "execution_count": 9,
   "metadata": {},
   "outputs": [],
   "source": [
    "def temp_res(temp, A, B, C):\n",
    "    return A * np.exp(B/ (temp - C))"
   ]
  },
  {
   "cell_type": "code",
   "execution_count": 183,
   "metadata": {},
   "outputs": [
    {
     "data": {
      "text/plain": [
       "<matplotlib.legend.Legend at 0x1b017ba8790>"
      ]
     },
     "execution_count": 183,
     "metadata": {},
     "output_type": "execute_result"
    },
    {
     "data": {
      "image/png": "[encoded data removed]",
      "text/plain": [
       "<Figure size 1440x720 with 2 Axes>"
      ]
     },
     "metadata": {
      "needs_background": "light"
     },
     "output_type": "display_data"
    }
   ],
   "source": [
    "temp_linspace = np.linspace(min(resistencias['Temperatura (°C)']), max(resistencias['Temperatura (°C)']), 100)\n",
    "\n",
    "fig, (ax1, ax2) = plt.subplots(1, 2, figsize=(20,10))\n",
    "\n",
    "ax1.scatter(resistencias['Resistencia (Ohm)'] / 1000, resistencias['Temperatura (°C)'], marker='+', color='black', s=10, label='Datos')\n",
    "ax1.set_title('Relación entre Resistencia y Temperatura', fontsize=20)\n",
    "ax1.set_xlabel('Resistencia (kOhm)', fontsize=20)\n",
    "ax1.set_ylabel('Temperatura (°C)', fontsize=20)\n",
    "ax1.tick_params(axis='both', labelsize=15, direction='in', right=True, top=True,\n",
    "              length=6, width=1.5, grid_color='black', grid_alpha=1)\n",
    "\n",
    "ax1.xaxis.set_minor_locator(MultipleLocator(1500))\n",
    "ax1.yaxis.set_minor_locator(MultipleLocator(2))\n",
    "ax1.tick_params(which='minor', length=4, color='black', direction='in', top=True, right=True)\n",
    "ax1.legend(fontsize=20, markerscale=3)\n",
    "\n",
    "ax2.scatter(resistencias['Resistencia (Ohm)'] / 1000, resistencias['Temperatura (°C)'], marker='+', color='black', s=10, label='Datos')\n",
    "ax2.plot(temp_res(temp_linspace, popt[0], popt[1], popt[2]) / 1000, temp_linspace, c='red', label='Ajuste')\n",
    "ax2.set_title('Relación entre Resistencia y Temperatura', fontsize=20)\n",
    "ax2.set_xlabel('Resistencia (kOhm)', fontsize=20)\n",
    "ax2.set_ylabel('Temperatura (°C)', fontsize=20)\n",
    "ax2.tick_params(axis='both', labelsize=15, direction='in', right=True, top=True,\n",
    "              length=6, width=1.5, grid_color='black', grid_alpha=1)\n",
    "\n",
    "ax2.xaxis.set_minor_locator(MultipleLocator(1500))\n",
    "ax2.yaxis.set_minor_locator(MultipleLocator(2))\n",
    "ax2.tick_params(which='minor', length=4, color='black', direction='in', top=True, right=True)\n",
    "ax2.legend(fontsize=20, markerscale=3)"
   ]
  },
  {
   "cell_type": "markdown",
   "metadata": {},
   "source": [
    "Podemos convertir Resistencia (Ohm) a Temperatura (°C) o viceversa a través de los modelos:\n",
    "\n",
    "$$T = \\frac{B}{ln(\\frac{R}{A})} + C$$\n",
    "\n",
    "$$R = A \\cdot e^{\\frac{B}{T - C}}$$\n",
    "\n",
    "Donde:\n",
    "- T: Temperatura (°C)\n",
    "- R: Resistencia (Ohm)\n",
    "- A = 6.41389225e-03\n",
    "- B = 5.88312630e+03\n",
    "- C = -3.30251512e+02\n",
    "\n",
    "Los valores de A, B y C fueron calculados haciendo un ajuste a través del método $\\textit{curve\\textunderscore fit()}$ de la librería $\\textit{scipy.optimize}$"
   ]
  },
  {
   "cell_type": "code",
   "execution_count": 11,
   "metadata": {},
   "outputs": [
    {
     "data": {
      "text/plain": [
       "65.54539460197095"
      ]
     },
     "execution_count": 11,
     "metadata": {},
     "output_type": "execute_result"
    }
   ],
   "source": [
    "t1 = temp_res(t_amb + 12, popt[0], popt[1], popt[2])\n",
    "t1"
   ]
  },
  {
   "cell_type": "markdown",
   "metadata": {},
   "source": [
    "## Comparación entre Rad y $T_{k}^4 - T_{amb}^4$"
   ]
  },
  {
   "cell_type": "markdown",
   "metadata": {},
   "source": [
    "A través de la ecuación de Stefan-Boltzmann sabemos que:\n",
    "\n",
    "$$E = \\sigma (T_{k}^4 - T_{amb}^4) $$\n",
    "\n",
    "Compararemos este modelo con la distribución de nuestros datos para comprobar si su relación es lineal, y de comprobarse esto, ver si la constante $\\sigma$ se acerca al valor real de la constante de Stefan-Boltzmann."
   ]
  },
  {
   "cell_type": "markdown",
   "metadata": {},
   "source": [
    "### Cara negra"
   ]
  },
  {
   "cell_type": "code",
   "execution_count": 12,
   "metadata": {},
   "outputs": [
    {
     "name": "stdout",
     "output_type": "stream",
     "text": [
      "T: 112.39737902432967 °C, Resistencia = 3795.0000000000027 Ohm\n",
      "T: 100.39737902432967 °C, Resistencia = 5496.049700287615 Ohm\n",
      "T: 88.39737902432967 °C, Resistencia = 8130.363757639147 Ohm\n",
      "T: 76.39737902432967 °C, Resistencia = 12308.525470431487 Ohm\n",
      "T: 64.39737902432967 °C, Resistencia = 19109.721639606312 Ohm\n",
      "T: 52.397379024329666 °C, Resistencia = 30498.984221488558 Ohm\n",
      "T: 40.397379024329666 °C, Resistencia = 50172.17322260016 Ohm\n",
      "T: 28.397379024329666 °C, Resistencia = 85330.9497012303 Ohm\n",
      "T: 16.397379024329666 °C, Resistencia = 150563.15358443954 Ohm\n",
      "T: 4.397379024329666 °C, Resistencia = 276705.0574263856 Ohm\n"
     ]
    }
   ],
   "source": [
    "res_max = 3795\n",
    "temp_max = modelo_ajuste(res_max, popt)\n",
    "\n",
    "lista_temp = []\n",
    "\n",
    "for i in range(12):\n",
    "    temperatura = temp_res(temp_max - (12 * i), popt[0], popt[1], popt[2])\n",
    "    lista_temp.append(temperatura)\n",
    "    if temp_max - 12*i > 0:\n",
    "        print('T: {} °C, Resistencia = {} Ohm'.format(\n",
    "            temp_max - 12*i, temperatura))"
   ]
  },
  {
   "cell_type": "code",
   "execution_count": 13,
   "metadata": {},
   "outputs": [
    {
     "data": {
      "text/html": [
       "<div>\n",
       "<style scoped>\n",
       "    .dataframe tbody tr th:only-of-type {\n",
       "        vertical-align: middle;\n",
       "    }\n",
       "\n",
       "    .dataframe tbody tr th {\n",
       "        vertical-align: top;\n",
       "    }\n",
       "\n",
       "    .dataframe thead th {\n",
       "        text-align: right;\n",
       "    }\n",
       "</style>\n",
       "<table border=\"1\" class=\"dataframe\">\n",
       "  <thead>\n",
       "    <tr style=\"text-align: right;\">\n",
       "      <th></th>\n",
       "      <th>Rad</th>\n",
       "      <th>R (kOhm)</th>\n",
       "      <th>Tc</th>\n",
       "      <th>Tk</th>\n",
       "      <th>Tk^4</th>\n",
       "      <th>Tk^4 - Tamb^4</th>\n",
       "    </tr>\n",
       "  </thead>\n",
       "  <tbody>\n",
       "    <tr>\n",
       "      <th>0</th>\n",
       "      <td>1.3</td>\n",
       "      <td>67.000</td>\n",
       "      <td>33.0</td>\n",
       "      <td>NaN</td>\n",
       "      <td>NaN</td>\n",
       "      <td>NaN</td>\n",
       "    </tr>\n",
       "    <tr>\n",
       "      <th>7</th>\n",
       "      <td>2.8</td>\n",
       "      <td>42.700</td>\n",
       "      <td>NaN</td>\n",
       "      <td>NaN</td>\n",
       "      <td>NaN</td>\n",
       "      <td>NaN</td>\n",
       "    </tr>\n",
       "    <tr>\n",
       "      <th>6</th>\n",
       "      <td>4.2</td>\n",
       "      <td>30.400</td>\n",
       "      <td>NaN</td>\n",
       "      <td>NaN</td>\n",
       "      <td>NaN</td>\n",
       "      <td>NaN</td>\n",
       "    </tr>\n",
       "    <tr>\n",
       "      <th>5</th>\n",
       "      <td>6.2</td>\n",
       "      <td>19.500</td>\n",
       "      <td>NaN</td>\n",
       "      <td>NaN</td>\n",
       "      <td>NaN</td>\n",
       "      <td>NaN</td>\n",
       "    </tr>\n",
       "    <tr>\n",
       "      <th>4</th>\n",
       "      <td>8.8</td>\n",
       "      <td>12.300</td>\n",
       "      <td>NaN</td>\n",
       "      <td>NaN</td>\n",
       "      <td>NaN</td>\n",
       "      <td>NaN</td>\n",
       "    </tr>\n",
       "    <tr>\n",
       "      <th>3</th>\n",
       "      <td>11.6</td>\n",
       "      <td>8.150</td>\n",
       "      <td>NaN</td>\n",
       "      <td>NaN</td>\n",
       "      <td>NaN</td>\n",
       "      <td>NaN</td>\n",
       "    </tr>\n",
       "    <tr>\n",
       "      <th>2</th>\n",
       "      <td>14.8</td>\n",
       "      <td>5.490</td>\n",
       "      <td>NaN</td>\n",
       "      <td>NaN</td>\n",
       "      <td>NaN</td>\n",
       "      <td>NaN</td>\n",
       "    </tr>\n",
       "    <tr>\n",
       "      <th>1</th>\n",
       "      <td>18.2</td>\n",
       "      <td>3.795</td>\n",
       "      <td>NaN</td>\n",
       "      <td>NaN</td>\n",
       "      <td>NaN</td>\n",
       "      <td>NaN</td>\n",
       "    </tr>\n",
       "  </tbody>\n",
       "</table>\n",
       "</div>"
      ],
      "text/plain": [
       "    Rad  R (kOhm)    Tc  Tk  Tk^4  Tk^4 - Tamb^4\n",
       "0   1.3    67.000  33.0 NaN   NaN            NaN\n",
       "7   2.8    42.700   NaN NaN   NaN            NaN\n",
       "6   4.2    30.400   NaN NaN   NaN            NaN\n",
       "5   6.2    19.500   NaN NaN   NaN            NaN\n",
       "4   8.8    12.300   NaN NaN   NaN            NaN\n",
       "3  11.6     8.150   NaN NaN   NaN            NaN\n",
       "2  14.8     5.490   NaN NaN   NaN            NaN\n",
       "1  18.2     3.795   NaN NaN   NaN            NaN"
      ]
     },
     "execution_count": 13,
     "metadata": {},
     "output_type": "execute_result"
    }
   ],
   "source": [
    "datos_cara_negra = pd.read_csv('datos_cara_negra.csv', sep=';').sort_values(by=['Rad'], ascending=True)\n",
    "datos_cara_negra"
   ]
  },
  {
   "cell_type": "code",
   "execution_count": 14,
   "metadata": {},
   "outputs": [
    {
     "data": {
      "text/html": [
       "<div>\n",
       "<style scoped>\n",
       "    .dataframe tbody tr th:only-of-type {\n",
       "        vertical-align: middle;\n",
       "    }\n",
       "\n",
       "    .dataframe tbody tr th {\n",
       "        vertical-align: top;\n",
       "    }\n",
       "\n",
       "    .dataframe thead th {\n",
       "        text-align: right;\n",
       "    }\n",
       "</style>\n",
       "<table border=\"1\" class=\"dataframe\">\n",
       "  <thead>\n",
       "    <tr style=\"text-align: right;\">\n",
       "      <th></th>\n",
       "      <th>Rad</th>\n",
       "      <th>R (kOhm)</th>\n",
       "      <th>Tc</th>\n",
       "      <th>Tk</th>\n",
       "      <th>Tk^4</th>\n",
       "      <th>Tk^4 - Tamb^4</th>\n",
       "    </tr>\n",
       "  </thead>\n",
       "  <tbody>\n",
       "    <tr>\n",
       "      <th>0</th>\n",
       "      <td>1.3</td>\n",
       "      <td>67.000</td>\n",
       "      <td>33.764209</td>\n",
       "      <td>306.764209</td>\n",
       "      <td>8.855616e+09</td>\n",
       "      <td>1.282265e+09</td>\n",
       "    </tr>\n",
       "    <tr>\n",
       "      <th>7</th>\n",
       "      <td>2.8</td>\n",
       "      <td>42.700</td>\n",
       "      <td>44.201753</td>\n",
       "      <td>317.201753</td>\n",
       "      <td>1.012377e+10</td>\n",
       "      <td>2.550420e+09</td>\n",
       "    </tr>\n",
       "    <tr>\n",
       "      <th>6</th>\n",
       "      <td>4.2</td>\n",
       "      <td>30.400</td>\n",
       "      <td>52.478302</td>\n",
       "      <td>325.478302</td>\n",
       "      <td>1.122246e+10</td>\n",
       "      <td>3.649112e+09</td>\n",
       "    </tr>\n",
       "    <tr>\n",
       "      <th>5</th>\n",
       "      <td>6.2</td>\n",
       "      <td>19.500</td>\n",
       "      <td>63.862879</td>\n",
       "      <td>336.862879</td>\n",
       "      <td>1.287694e+10</td>\n",
       "      <td>5.303588e+09</td>\n",
       "    </tr>\n",
       "    <tr>\n",
       "      <th>4</th>\n",
       "      <td>8.8</td>\n",
       "      <td>12.300</td>\n",
       "      <td>76.416856</td>\n",
       "      <td>349.416856</td>\n",
       "      <td>1.490649e+10</td>\n",
       "      <td>7.333140e+09</td>\n",
       "    </tr>\n",
       "    <tr>\n",
       "      <th>3</th>\n",
       "      <td>11.6</td>\n",
       "      <td>8.150</td>\n",
       "      <td>88.325527</td>\n",
       "      <td>361.325527</td>\n",
       "      <td>1.704490e+10</td>\n",
       "      <td>9.471554e+09</td>\n",
       "    </tr>\n",
       "    <tr>\n",
       "      <th>2</th>\n",
       "      <td>14.8</td>\n",
       "      <td>5.490</td>\n",
       "      <td>100.432100</td>\n",
       "      <td>373.432100</td>\n",
       "      <td>1.944673e+10</td>\n",
       "      <td>1.187338e+10</td>\n",
       "    </tr>\n",
       "    <tr>\n",
       "      <th>1</th>\n",
       "      <td>18.2</td>\n",
       "      <td>3.795</td>\n",
       "      <td>112.397379</td>\n",
       "      <td>385.397379</td>\n",
       "      <td>2.206150e+10</td>\n",
       "      <td>1.448815e+10</td>\n",
       "    </tr>\n",
       "  </tbody>\n",
       "</table>\n",
       "</div>"
      ],
      "text/plain": [
       "    Rad  R (kOhm)          Tc          Tk          Tk^4  Tk^4 - Tamb^4\n",
       "0   1.3    67.000   33.764209  306.764209  8.855616e+09   1.282265e+09\n",
       "7   2.8    42.700   44.201753  317.201753  1.012377e+10   2.550420e+09\n",
       "6   4.2    30.400   52.478302  325.478302  1.122246e+10   3.649112e+09\n",
       "5   6.2    19.500   63.862879  336.862879  1.287694e+10   5.303588e+09\n",
       "4   8.8    12.300   76.416856  349.416856  1.490649e+10   7.333140e+09\n",
       "3  11.6     8.150   88.325527  361.325527  1.704490e+10   9.471554e+09\n",
       "2  14.8     5.490  100.432100  373.432100  1.944673e+10   1.187338e+10\n",
       "1  18.2     3.795  112.397379  385.397379  2.206150e+10   1.448815e+10"
      ]
     },
     "execution_count": 14,
     "metadata": {},
     "output_type": "execute_result"
    }
   ],
   "source": [
    "datos_cara_negra['Tc'] = modelo_ajuste(datos_cara_negra['R (kOhm)'] * 1000, popt)\n",
    "datos_cara_negra['Tk'] = datos_cara_negra['Tc'] + 273\n",
    "datos_cara_negra['Tk^4'] = datos_cara_negra['Tk'] ** 4\n",
    "datos_cara_negra['Tk^4 - Tamb^4'] = datos_cara_negra['Tk^4'] - (t_amb ** 4)\n",
    "datos_cara_negra"
   ]
  },
  {
   "cell_type": "code",
   "execution_count": 182,
   "metadata": {},
   "outputs": [
    {
     "data": {
      "text/plain": [
       "<matplotlib.legend.Legend at 0x1b01fde5930>"
      ]
     },
     "execution_count": 182,
     "metadata": {},
     "output_type": "execute_result"
    },
    {
     "data": {
      "image/png": "[encoded data removed]",
      "text/plain": [
       "<Figure size 720x720 with 1 Axes>"
      ]
     },
     "metadata": {
      "needs_background": "light"
     },
     "output_type": "display_data"
    }
   ],
   "source": [
    "fig, ax = plt.subplots(figsize=(10,10))\n",
    "ax.scatter(datos_cara_negra['Rad'], datos_cara_negra['Tk^4 - Tamb^4'], marker='+', color='black', s=30, label='Datos')\n",
    "ax.set_title(r'Relación entre Rad y T$_{k}^{4}$ - T$_{amb}^{4}$ Cara negra', fontsize=20)\n",
    "ax.set_xlabel('Rad (mV)', fontsize=20)\n",
    "ax.set_ylabel(r'T$_{k}^{4}$ - T$_{amb}^{4}$ (K$^{4}$)', fontsize=20)\n",
    "ax.tick_params(axis='both', labelsize=15, direction='in', right=True, top=True,\n",
    "              length=6, width=1.5, grid_color='black', grid_alpha=1)\n",
    "\n",
    "ax.xaxis.set_minor_locator(MultipleLocator(0.5))\n",
    "ax.yaxis.set_minor_locator(MultipleLocator(200000000))\n",
    "ax.tick_params(which='minor', length=4, color='black', direction='in', top=True, right=True)\n",
    "ax.legend(fontsize=20, markerscale=2)"
   ]
  },
  {
   "cell_type": "code",
   "execution_count": 65,
   "metadata": {},
   "outputs": [
    {
     "data": {
      "text/plain": [
       "array([1.23322748e-09])"
      ]
     },
     "execution_count": 65,
     "metadata": {},
     "output_type": "execute_result"
    }
   ],
   "source": [
    "def ajuste_recta(T4, S):\n",
    "    return S * T4\n",
    "\n",
    "ajuste_cn, _ = curve_fit(ajuste_recta, datos_cara_negra['Tk^4 - Tamb^4'], datos_cara_negra['Rad'])\n",
    "ajuste_cn"
   ]
  },
  {
   "cell_type": "code",
   "execution_count": 66,
   "metadata": {},
   "outputs": [
    {
     "name": "stdout",
     "output_type": "stream",
     "text": [
      "Valor encontrado para la constante de boltzmann con los datos de la cara negra: 5.6056e-08 W/m^2 K^4\n",
      "Error porcentual entre el valor encontrado y el teórico: 1.142%\n"
     ]
    }
   ],
   "source": [
    "def boltzmann_mv_w(boltzmann):  #  Convierte el valor encontrado para la constante de boltzmann de mV a W\n",
    "    return np.round((boltzmann / 22) * 1000, 12)\n",
    "\n",
    "def error_boltzmann_exp_teo(b_exp, b_teo):  #  Calcular el error porcentual entre \n",
    "    return (np.abs(b_teo - b_exp) * 100) / b_teo\n",
    "\n",
    "print('Valor encontrado para la constante de boltzmann con los datos de la cara negra: {} W/m^2 K^4'.format(\n",
    "    boltzmann_mv_w(ajuste_cn)[0]))\n",
    "print('Error porcentual entre el valor encontrado y el teórico: {}%'.format(\n",
    "    round(error_boltzmann_exp_teo(boltzmann_mv_w(ajuste_cn), const.sigma_sb.value)[0], 3)\n",
    "))"
   ]
  },
  {
   "cell_type": "markdown",
   "metadata": {},
   "source": [
    "1 mW = 22 mV"
   ]
  },
  {
   "cell_type": "code",
   "execution_count": 67,
   "metadata": {},
   "outputs": [],
   "source": [
    "def recta(T4, ajuste):\n",
    "    return ajuste * T4"
   ]
  },
  {
   "cell_type": "code",
   "execution_count": 180,
   "metadata": {},
   "outputs": [
    {
     "data": {
      "image/png": "[encoded data removed]",
      "text/plain": [
       "<Figure size 1440x720 with 2 Axes>"
      ]
     },
     "metadata": {
      "needs_background": "light"
     },
     "output_type": "display_data"
    }
   ],
   "source": [
    "temp_linspace = np.linspace(min(datos_cara_negra['Tk^4 - Tamb^4']), max(datos_cara_negra['Tk^4 - Tamb^4']), 100)\n",
    "\n",
    "fig, (ax, ax2) = plt.subplots(1, 2, figsize=(20,10))\n",
    "ax.scatter(datos_cara_negra['Rad'], datos_cara_negra['Tk^4 - Tamb^4'], marker='+', color='black', s=30, label='Datos')\n",
    "ax.set_title(r'Relación entre Rad y T$^{4}$ Cara negra', fontsize=20)\n",
    "ax.set_xlabel('Rad (mV)', fontsize=20)\n",
    "ax.set_ylabel(r'T$_{k}^{4}$ - T$_{amb}^{4}$ (K$^{4}$)', fontsize=20)\n",
    "ax.tick_params(axis='both', labelsize=15, direction='in', right=True, top=True,\n",
    "              length=6, width=1.5, grid_color='black', grid_alpha=1)\n",
    "\n",
    "ax.xaxis.set_minor_locator(MultipleLocator(0.5))\n",
    "ax.yaxis.set_minor_locator(MultipleLocator(200000000))\n",
    "ax.tick_params(which='minor', length=4, color='black', direction='in', top=True, right=True)\n",
    "ax.legend(fontsize=20, markerscale=2)\n",
    "\n",
    "scatter = ax2.scatter(datos_cara_negra['Rad'], datos_cara_negra['Tk^4 - Tamb^4'], marker='+', color='black', s=30, label='Datos')\n",
    "ax2.plot(recta(temp_linspace, ajuste_cn), temp_linspace,c='red', label='Ajuste')\n",
    "ax2.set_title(r'Relación entre Rad y T$^{4}$ Cara negra', fontsize=20)\n",
    "ax2.set_xlabel('Rad (mV)', fontsize=20)\n",
    "ax2.set_ylabel(r'T$_{k}^{4}$ - T$_{amb}^{4}$ (K$^{4}$)', fontsize=20)\n",
    "ax2.tick_params(axis='both', labelsize=15, direction='in', right=True, top=True,\n",
    "              length=6, width=1.5, grid_color='black', grid_alpha=1)\n",
    "\n",
    "ax2.xaxis.set_minor_locator(MultipleLocator(0.5))\n",
    "ax2.yaxis.set_minor_locator(MultipleLocator(200000000))\n",
    "ax2.tick_params(which='minor', length=4, color='black', direction='in', top=True, right=True)\n",
    "legend1 = ax2.legend(fontsize=20, markerscale=2)\n",
    "legend2 = ax2.legend([scatter], [fr'$\\sigma = {boltzmann_mv_w(ajuste_cn)[0]}$ W/ m$^{2}$ K$^{4}$'], loc=4, handlelength=0, handletextpad=0, fontsize=20)\n",
    "ax2.add_artist(legend1)\n",
    "ax2.add_artist(legend2)\n",
    "for item in legend2.legendHandles:\n",
    "    item.set_visible(False)"
   ]
  },
  {
   "cell_type": "code",
   "execution_count": 69,
   "metadata": {},
   "outputs": [
    {
     "name": "stdout",
     "output_type": "stream",
     "text": [
      "Correlacion de Spearman: 1.0 \n",
      "Correlacion de Pearson: 0.9998694989549003\n"
     ]
    }
   ],
   "source": [
    "spear1 = stats.spearmanr(datos_cara_negra['Rad'], recta(datos_cara_negra['Tk^4 - Tamb^4'], ajuste_cn))[0]\n",
    "pear1 = stats.pearsonr(datos_cara_negra['Rad'], recta(datos_cara_negra['Tk^4 - Tamb^4'], ajuste_cn))[0]\n",
    "print(\"Correlacion de Spearman: {} \\nCorrelacion de Pearson: {}\".format(\n",
    "    spear1, pear1\n",
    "))"
   ]
  },
  {
   "cell_type": "markdown",
   "metadata": {},
   "source": [
    "La relación es exactamente lineal."
   ]
  },
  {
   "cell_type": "markdown",
   "metadata": {},
   "source": [
    "### Cara blanca"
   ]
  },
  {
   "cell_type": "code",
   "execution_count": 20,
   "metadata": {},
   "outputs": [
    {
     "data": {
      "text/plain": [
       "41296.48822283149"
      ]
     },
     "execution_count": 20,
     "metadata": {},
     "output_type": "execute_result"
    }
   ],
   "source": [
    "temp_res(45, popt[0], popt[1], popt[2])"
   ]
  },
  {
   "cell_type": "code",
   "execution_count": 70,
   "metadata": {},
   "outputs": [
    {
     "name": "stdout",
     "output_type": "stream",
     "text": [
      "T: 76.30284790220418 °C, Resistencia = 12349.999999999998 Ohm\n",
      "T: 64.30284790220418 °C, Resistencia = 19178.096336099676 Ohm\n",
      "T: 52.30284790220418 °C, Resistencia = 30615.075605270747 Ohm\n",
      "T: 40.30284790220418 °C, Resistencia = 50375.74184323087 Ohm\n",
      "T: 28.302847902204178 °C, Resistencia = 85700.7817178036 Ohm\n",
      "T: 16.302847902204178 °C, Resistencia = 151261.78184401503 Ohm\n",
      "T: 4.302847902204178 °C, Resistencia = 278082.97454909113 Ohm\n"
     ]
    }
   ],
   "source": [
    "res_max = 3795\n",
    "temp_max = modelo_ajuste(12.35 * 1000, popt)\n",
    "\n",
    "lista_temp_bl = []\n",
    "\n",
    "for i in range(12):\n",
    "    temperatura = temp_res(temp_max - (12 * i), popt[0], popt[1], popt[2])\n",
    "    lista_temp.append(temperatura)\n",
    "    if temp_max - 12*i > 0:\n",
    "        print('T: {} °C, Resistencia = {} Ohm'.format(\n",
    "            temp_max - 12*i, temperatura))"
   ]
  },
  {
   "cell_type": "code",
   "execution_count": 23,
   "metadata": {},
   "outputs": [
    {
     "data": {
      "text/html": [
       "<div>\n",
       "<style scoped>\n",
       "    .dataframe tbody tr th:only-of-type {\n",
       "        vertical-align: middle;\n",
       "    }\n",
       "\n",
       "    .dataframe tbody tr th {\n",
       "        vertical-align: top;\n",
       "    }\n",
       "\n",
       "    .dataframe thead th {\n",
       "        text-align: right;\n",
       "    }\n",
       "</style>\n",
       "<table border=\"1\" class=\"dataframe\">\n",
       "  <thead>\n",
       "    <tr style=\"text-align: right;\">\n",
       "      <th></th>\n",
       "      <th>Rad</th>\n",
       "      <th>R (kOhm)</th>\n",
       "      <th>Tc</th>\n",
       "      <th>Tk</th>\n",
       "      <th>Tk^4</th>\n",
       "      <th>Tk^4 - Tamb^4</th>\n",
       "    </tr>\n",
       "  </thead>\n",
       "  <tbody>\n",
       "    <tr>\n",
       "      <th>7</th>\n",
       "      <td>1.4</td>\n",
       "      <td>61.000</td>\n",
       "      <td>NaN</td>\n",
       "      <td>NaN</td>\n",
       "      <td>NaN</td>\n",
       "      <td>NaN</td>\n",
       "    </tr>\n",
       "    <tr>\n",
       "      <th>3</th>\n",
       "      <td>2.9</td>\n",
       "      <td>42.200</td>\n",
       "      <td>NaN</td>\n",
       "      <td>NaN</td>\n",
       "      <td>NaN</td>\n",
       "      <td>NaN</td>\n",
       "    </tr>\n",
       "    <tr>\n",
       "      <th>2</th>\n",
       "      <td>4.1</td>\n",
       "      <td>30.610</td>\n",
       "      <td>NaN</td>\n",
       "      <td>NaN</td>\n",
       "      <td>NaN</td>\n",
       "      <td>NaN</td>\n",
       "    </tr>\n",
       "    <tr>\n",
       "      <th>1</th>\n",
       "      <td>6.0</td>\n",
       "      <td>14.900</td>\n",
       "      <td>NaN</td>\n",
       "      <td>NaN</td>\n",
       "      <td>NaN</td>\n",
       "      <td>NaN</td>\n",
       "    </tr>\n",
       "    <tr>\n",
       "      <th>0</th>\n",
       "      <td>8.6</td>\n",
       "      <td>12.350</td>\n",
       "      <td>NaN</td>\n",
       "      <td>NaN</td>\n",
       "      <td>NaN</td>\n",
       "      <td>NaN</td>\n",
       "    </tr>\n",
       "    <tr>\n",
       "      <th>4</th>\n",
       "      <td>11.2</td>\n",
       "      <td>8.370</td>\n",
       "      <td>NaN</td>\n",
       "      <td>NaN</td>\n",
       "      <td>NaN</td>\n",
       "      <td>NaN</td>\n",
       "    </tr>\n",
       "    <tr>\n",
       "      <th>5</th>\n",
       "      <td>14.3</td>\n",
       "      <td>5.270</td>\n",
       "      <td>NaN</td>\n",
       "      <td>NaN</td>\n",
       "      <td>NaN</td>\n",
       "      <td>NaN</td>\n",
       "    </tr>\n",
       "    <tr>\n",
       "      <th>6</th>\n",
       "      <td>18.6</td>\n",
       "      <td>3.432</td>\n",
       "      <td>NaN</td>\n",
       "      <td>NaN</td>\n",
       "      <td>NaN</td>\n",
       "      <td>NaN</td>\n",
       "    </tr>\n",
       "  </tbody>\n",
       "</table>\n",
       "</div>"
      ],
      "text/plain": [
       "    Rad  R (kOhm)  Tc  Tk  Tk^4  Tk^4 - Tamb^4\n",
       "7   1.4    61.000 NaN NaN   NaN            NaN\n",
       "3   2.9    42.200 NaN NaN   NaN            NaN\n",
       "2   4.1    30.610 NaN NaN   NaN            NaN\n",
       "1   6.0    14.900 NaN NaN   NaN            NaN\n",
       "0   8.6    12.350 NaN NaN   NaN            NaN\n",
       "4  11.2     8.370 NaN NaN   NaN            NaN\n",
       "5  14.3     5.270 NaN NaN   NaN            NaN\n",
       "6  18.6     3.432 NaN NaN   NaN            NaN"
      ]
     },
     "execution_count": 23,
     "metadata": {},
     "output_type": "execute_result"
    }
   ],
   "source": [
    "datos_cara_blanca = pd.read_csv('datos_cara_blanca.csv', sep=';').sort_values(by=['Rad'], ascending=True)\n",
    "datos_cara_blanca"
   ]
  },
  {
   "cell_type": "code",
   "execution_count": 24,
   "metadata": {},
   "outputs": [
    {
     "data": {
      "text/html": [
       "<div>\n",
       "<style scoped>\n",
       "    .dataframe tbody tr th:only-of-type {\n",
       "        vertical-align: middle;\n",
       "    }\n",
       "\n",
       "    .dataframe tbody tr th {\n",
       "        vertical-align: top;\n",
       "    }\n",
       "\n",
       "    .dataframe thead th {\n",
       "        text-align: right;\n",
       "    }\n",
       "</style>\n",
       "<table border=\"1\" class=\"dataframe\">\n",
       "  <thead>\n",
       "    <tr style=\"text-align: right;\">\n",
       "      <th></th>\n",
       "      <th>Rad</th>\n",
       "      <th>R (kOhm)</th>\n",
       "      <th>Tc</th>\n",
       "      <th>Tk</th>\n",
       "      <th>Tk^4</th>\n",
       "      <th>Tk^4 - Tamb^4</th>\n",
       "    </tr>\n",
       "  </thead>\n",
       "  <tbody>\n",
       "    <tr>\n",
       "      <th>7</th>\n",
       "      <td>1.4</td>\n",
       "      <td>61.000</td>\n",
       "      <td>35.889656</td>\n",
       "      <td>308.889656</td>\n",
       "      <td>9.103606e+09</td>\n",
       "      <td>1.530256e+09</td>\n",
       "    </tr>\n",
       "    <tr>\n",
       "      <th>3</th>\n",
       "      <td>2.9</td>\n",
       "      <td>42.200</td>\n",
       "      <td>44.482691</td>\n",
       "      <td>317.482691</td>\n",
       "      <td>1.015968e+10</td>\n",
       "      <td>2.586334e+09</td>\n",
       "    </tr>\n",
       "    <tr>\n",
       "      <th>2</th>\n",
       "      <td>4.1</td>\n",
       "      <td>30.610</td>\n",
       "      <td>52.306972</td>\n",
       "      <td>325.306972</td>\n",
       "      <td>1.119885e+10</td>\n",
       "      <td>3.625501e+09</td>\n",
       "    </tr>\n",
       "    <tr>\n",
       "      <th>1</th>\n",
       "      <td>6.0</td>\n",
       "      <td>14.900</td>\n",
       "      <td>71.096801</td>\n",
       "      <td>344.096801</td>\n",
       "      <td>1.401918e+10</td>\n",
       "      <td>6.445827e+09</td>\n",
       "    </tr>\n",
       "    <tr>\n",
       "      <th>0</th>\n",
       "      <td>8.6</td>\n",
       "      <td>12.350</td>\n",
       "      <td>76.302848</td>\n",
       "      <td>349.302848</td>\n",
       "      <td>1.488705e+10</td>\n",
       "      <td>7.313695e+09</td>\n",
       "    </tr>\n",
       "    <tr>\n",
       "      <th>4</th>\n",
       "      <td>11.2</td>\n",
       "      <td>8.370</td>\n",
       "      <td>87.533775</td>\n",
       "      <td>360.533775</td>\n",
       "      <td>1.689600e+10</td>\n",
       "      <td>9.322646e+09</td>\n",
       "    </tr>\n",
       "    <tr>\n",
       "      <th>5</th>\n",
       "      <td>14.3</td>\n",
       "      <td>5.270</td>\n",
       "      <td>101.725437</td>\n",
       "      <td>374.725437</td>\n",
       "      <td>1.971754e+10</td>\n",
       "      <td>1.214419e+10</td>\n",
       "    </tr>\n",
       "    <tr>\n",
       "      <th>6</th>\n",
       "      <td>18.6</td>\n",
       "      <td>3.432</td>\n",
       "      <td>115.771437</td>\n",
       "      <td>388.771437</td>\n",
       "      <td>2.284428e+10</td>\n",
       "      <td>1.527093e+10</td>\n",
       "    </tr>\n",
       "  </tbody>\n",
       "</table>\n",
       "</div>"
      ],
      "text/plain": [
       "    Rad  R (kOhm)          Tc          Tk          Tk^4  Tk^4 - Tamb^4\n",
       "7   1.4    61.000   35.889656  308.889656  9.103606e+09   1.530256e+09\n",
       "3   2.9    42.200   44.482691  317.482691  1.015968e+10   2.586334e+09\n",
       "2   4.1    30.610   52.306972  325.306972  1.119885e+10   3.625501e+09\n",
       "1   6.0    14.900   71.096801  344.096801  1.401918e+10   6.445827e+09\n",
       "0   8.6    12.350   76.302848  349.302848  1.488705e+10   7.313695e+09\n",
       "4  11.2     8.370   87.533775  360.533775  1.689600e+10   9.322646e+09\n",
       "5  14.3     5.270  101.725437  374.725437  1.971754e+10   1.214419e+10\n",
       "6  18.6     3.432  115.771437  388.771437  2.284428e+10   1.527093e+10"
      ]
     },
     "execution_count": 24,
     "metadata": {},
     "output_type": "execute_result"
    }
   ],
   "source": [
    "datos_cara_blanca['Tc'] = modelo_ajuste(datos_cara_blanca['R (kOhm)'] * 1000, popt)\n",
    "datos_cara_blanca['Tk'] = datos_cara_blanca['Tc'] + 273\n",
    "datos_cara_blanca['Tk^4'] = datos_cara_blanca['Tk'] ** 4\n",
    "datos_cara_blanca['Tk^4 - Tamb^4'] = datos_cara_blanca['Tk^4'] - (t_amb ** 4)\n",
    "datos_cara_blanca"
   ]
  },
  {
   "cell_type": "code",
   "execution_count": 178,
   "metadata": {},
   "outputs": [
    {
     "data": {
      "text/plain": [
       "<matplotlib.legend.Legend at 0x1b02740aa10>"
      ]
     },
     "execution_count": 178,
     "metadata": {},
     "output_type": "execute_result"
    },
    {
     "data": {
      "image/png": "[encoded data removed]",
      "text/plain": [
       "<Figure size 720x720 with 1 Axes>"
      ]
     },
     "metadata": {
      "needs_background": "light"
     },
     "output_type": "display_data"
    }
   ],
   "source": [
    "fig, ax = plt.subplots(figsize=(10,10))\n",
    "ax.scatter(datos_cara_blanca['Rad'], datos_cara_blanca['Tk^4 - Tamb^4'], marker='+', color='black', s=30, label='Datos')\n",
    "ax.set_title(r'Relación entre Rad y T$_{k}^{4}$ - T$_{amb}^{4}$ Cara blanca', fontsize=20)\n",
    "ax.set_xlabel('Rad (mV)', fontsize=20)\n",
    "ax.set_ylabel(r'T$_{k}^{4}$ - T$_{amb}^{4}$ (K$^{4}$)', fontsize=20)\n",
    "ax.tick_params(axis='both', labelsize=15, direction='in', right=True, top=True,\n",
    "              length=6, width=1.5, grid_color='black', grid_alpha=1)\n",
    "\n",
    "ax.xaxis.set_minor_locator(MultipleLocator(0.5))\n",
    "ax.yaxis.set_minor_locator(MultipleLocator(200000000))\n",
    "ax.tick_params(which='minor', length=4, color='black', direction='in', top=True, right=True)\n",
    "ax.legend(fontsize=20, markerscale=2)"
   ]
  },
  {
   "cell_type": "code",
   "execution_count": 75,
   "metadata": {},
   "outputs": [
    {
     "data": {
      "text/plain": [
       "array([1.17678736e-09])"
      ]
     },
     "execution_count": 75,
     "metadata": {},
     "output_type": "execute_result"
    }
   ],
   "source": [
    "ajuste_cb, _ = curve_fit(ajuste_recta, datos_cara_blanca['Tk^4 - Tamb^4'], datos_cara_blanca['Rad'])\n",
    "ajuste_cb"
   ]
  },
  {
   "cell_type": "code",
   "execution_count": 76,
   "metadata": {},
   "outputs": [
    {
     "name": "stdout",
     "output_type": "stream",
     "text": [
      "Valor encontrado para la constante de boltzmann con los datos de la cara blanca: 5.349e-08 W/m^2 K^4\n",
      "Error porcentual entre el valor encontrado y el teórico: 5.668%\n"
     ]
    }
   ],
   "source": [
    "print('Valor encontrado para la constante de boltzmann con los datos de la cara blanca: {} W/m^2 K^4'.format(\n",
    "    boltzmann_mv_w(ajuste_cb)[0]))\n",
    "print('Error porcentual entre el valor encontrado y el teórico: {}%'.format(\n",
    "    round(error_boltzmann_exp_teo(boltzmann_mv_w(ajuste_cb), const.sigma_sb.value)[0], 3)\n",
    "))"
   ]
  },
  {
   "cell_type": "code",
   "execution_count": 173,
   "metadata": {},
   "outputs": [
    {
     "data": {
      "image/png": "[encoded data removed]",
      "text/plain": [
       "<Figure size 1440x720 with 2 Axes>"
      ]
     },
     "metadata": {
      "needs_background": "light"
     },
     "output_type": "display_data"
    }
   ],
   "source": [
    "temp_linspace = np.linspace(min(datos_cara_blanca['Tk^4 - Tamb^4']), max(datos_cara_blanca['Tk^4 - Tamb^4']), 100)\n",
    "\n",
    "fig, (ax, ax2) = plt.subplots(1, 2, figsize=(20,10))\n",
    "ax.scatter(datos_cara_blanca['Rad'], datos_cara_blanca['Tk^4 - Tamb^4'], marker='+', color='black', s=30, label='Datos')\n",
    "ax.set_title(r'Relación entre Rad y T$^{4}$ Cara blanca', fontsize=20)\n",
    "ax.set_xlabel('Rad (mV)', fontsize=20)\n",
    "ax.set_ylabel(r'T$_{k}^{4}$ - T$_{amb}^{4}$ (K$^{4}$)', fontsize=20)\n",
    "ax.tick_params(axis='both', labelsize=15, direction='in', right=True, top=True,\n",
    "              length=6, width=1.5, grid_color='black', grid_alpha=1)\n",
    "\n",
    "ax.xaxis.set_minor_locator(MultipleLocator(0.5))\n",
    "ax.yaxis.set_minor_locator(MultipleLocator(200000000))\n",
    "ax.tick_params(which='minor', length=4, color='black', direction='in', top=True, right=True)\n",
    "ax.legend(fontsize=20, markerscale=2)\n",
    "\n",
    "scatter = ax2.scatter(datos_cara_blanca['Rad'], datos_cara_blanca['Tk^4 - Tamb^4'], marker='+', color='black', s=30, label='Datos')\n",
    "ajuste = ax2.plot(recta(temp_linspace, ajuste_cb), temp_linspace,c='red', label='Ajuste')\n",
    "ax2.set_title(r'Relación entre Rad y T$^{4}$ Cara blanca', fontsize=20)\n",
    "ax2.set_xlabel('Rad (mV)', fontsize=20)\n",
    "ax2.set_ylabel(r'T$_{k}^{4}$ - T$_{amb}^{4}$ (K$^{4}$)', fontsize=20)\n",
    "ax2.tick_params(axis='both', labelsize=15, direction='in', right=True, top=True,\n",
    "              length=6, width=1.5, grid_color='black', grid_alpha=1)\n",
    "\n",
    "ax2.xaxis.set_minor_locator(MultipleLocator(0.5))\n",
    "ax2.yaxis.set_minor_locator(MultipleLocator(200000000))\n",
    "ax2.tick_params(which='minor', length=4, color='black', direction='in', top=True, right=True)\n",
    "legend1 = ax2.legend(fontsize=20, markerscale=2)\n",
    "legend2 = ax2.legend([scatter], [fr'$\\sigma = {boltzmann_mv_w(ajuste_cb)[0]}$ W/ m$^{2}$ K$^{4}$'], loc=4, handlelength=0, handletextpad=0, fontsize=20)\n",
    "ax2.add_artist(legend1)\n",
    "ax2.add_artist(legend2)\n",
    "for item in legend2.legendHandles:\n",
    "    item.set_visible(False)"
   ]
  },
  {
   "cell_type": "code",
   "execution_count": 74,
   "metadata": {},
   "outputs": [
    {
     "name": "stdout",
     "output_type": "stream",
     "text": [
      "Correlacion de Spearman: 1.0 \n",
      "Correlacion de Pearson: 0.9955247205103569\n"
     ]
    }
   ],
   "source": [
    "spear1 = stats.spearmanr(datos_cara_blanca['Rad'], recta(datos_cara_blanca['Tk^4 - Tamb^4'], ajuste_cb))[0]\n",
    "pear1 = stats.pearsonr(datos_cara_blanca['Rad'], recta(datos_cara_blanca['Tk^4 - Tamb^4'], ajuste_cb))[0]\n",
    "print(\"Correlacion de Spearman: {} \\nCorrelacion de Pearson: {}\".format(\n",
    "    spear1, pear1\n",
    "))"
   ]
  },
  {
   "cell_type": "markdown",
   "metadata": {},
   "source": []
  }
 ],
 "metadata": {
  "kernelspec": {
   "display_name": "Python 3.10.6 64-bit",
   "language": "python",
   "name": "python3"
  },
  "language_info": {
   "codemirror_mode": {
    "name": "ipython",
    "version": 3
   },
   "file_extension": ".py",
   "mimetype": "text/x-python",
   "name": "python",
   "nbconvert_exporter": "python",
   "pygments_lexer": "ipython3",
   "version": "3.10.6"
  },
  "orig_nbformat": 4,
  "vscode": {
   "interpreter": {
    "hash": "8e7afcb160a0c66e121f2af697e3c7fecc1c6c21720499e332272532fe48572b"
   }
  }
 },
 "nbformat": 4,
 "nbformat_minor": 2
}
