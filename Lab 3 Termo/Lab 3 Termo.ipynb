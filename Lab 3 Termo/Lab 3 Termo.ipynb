{
 "cells": [
  {
   "cell_type": "markdown",
   "metadata": {},
   "source": [
    "## Lab 3 Termodinámica y Teoría Cinética 🧑‍🔬 - Calor específico\n",
    "\n",
    "- Camila Ferrus\n",
    "- Marcelo Ojeda"
   ]
  },
  {
   "cell_type": "code",
   "execution_count": 1,
   "metadata": {},
   "outputs": [],
   "source": [
    "import numpy as np\n",
    "import pandas as pd"
   ]
  },
  {
   "cell_type": "markdown",
   "metadata": {},
   "source": [
    "### Calcular el Coeficiente para el calorímetro"
   ]
  },
  {
   "cell_type": "code",
   "execution_count": 2,
   "metadata": {},
   "outputs": [
    {
     "data": {
      "text/html": [
       "<div>\n",
       "<style scoped>\n",
       "    .dataframe tbody tr th:only-of-type {\n",
       "        vertical-align: middle;\n",
       "    }\n",
       "\n",
       "    .dataframe tbody tr th {\n",
       "        vertical-align: top;\n",
       "    }\n",
       "\n",
       "    .dataframe thead th {\n",
       "        text-align: right;\n",
       "    }\n",
       "</style>\n",
       "<table border=\"1\" class=\"dataframe\">\n",
       "  <thead>\n",
       "    <tr style=\"text-align: right;\">\n",
       "      <th></th>\n",
       "      <th>Sigla</th>\n",
       "      <th>Unidad</th>\n",
       "      <th>EXP1</th>\n",
       "      <th>EXP2</th>\n",
       "      <th>EXP3</th>\n",
       "    </tr>\n",
       "    <tr>\n",
       "      <th>DATOS CALORIMETRO</th>\n",
       "      <th></th>\n",
       "      <th></th>\n",
       "      <th></th>\n",
       "      <th></th>\n",
       "      <th></th>\n",
       "    </tr>\n",
       "  </thead>\n",
       "  <tbody>\n",
       "    <tr>\n",
       "      <th>Masa agua fría</th>\n",
       "      <td>m1</td>\n",
       "      <td>g</td>\n",
       "      <td>94.21</td>\n",
       "      <td>98.51</td>\n",
       "      <td>90.43</td>\n",
       "    </tr>\n",
       "    <tr>\n",
       "      <th>Masa agua caliente</th>\n",
       "      <td>m2</td>\n",
       "      <td>g</td>\n",
       "      <td>89.97</td>\n",
       "      <td>92.04</td>\n",
       "      <td>89.65</td>\n",
       "    </tr>\n",
       "    <tr>\n",
       "      <th>Temperatura agua fría</th>\n",
       "      <td>T1</td>\n",
       "      <td>°C</td>\n",
       "      <td>17.00</td>\n",
       "      <td>19.00</td>\n",
       "      <td>22.00</td>\n",
       "    </tr>\n",
       "    <tr>\n",
       "      <th>Temperatura agua caliente</th>\n",
       "      <td>T2</td>\n",
       "      <td>°C</td>\n",
       "      <td>53.00</td>\n",
       "      <td>66.00</td>\n",
       "      <td>71.00</td>\n",
       "    </tr>\n",
       "    <tr>\n",
       "      <th>Temperatura de la mezcla</th>\n",
       "      <td>T3</td>\n",
       "      <td>°C</td>\n",
       "      <td>33.00</td>\n",
       "      <td>40.00</td>\n",
       "      <td>44.00</td>\n",
       "    </tr>\n",
       "  </tbody>\n",
       "</table>\n",
       "</div>"
      ],
      "text/plain": [
       "                          Sigla Unidad   EXP1   EXP2   EXP3\n",
       "DATOS CALORIMETRO                                          \n",
       "Masa agua fría               m1      g  94.21  98.51  90.43\n",
       "Masa agua caliente           m2      g  89.97  92.04  89.65\n",
       "Temperatura agua fría        T1     °C  17.00  19.00  22.00\n",
       "Temperatura agua caliente    T2     °C  53.00  66.00  71.00\n",
       "Temperatura de la mezcla     T3     °C  33.00  40.00  44.00"
      ]
     },
     "execution_count": 2,
     "metadata": {},
     "output_type": "execute_result"
    }
   ],
   "source": [
    "path_calorimetro = 'datos_ck_calorimetro.csv'\n",
    "calorimetro = pd.read_csv(filepath_or_buffer=path_calorimetro, sep=';',index_col=0)\n",
    "calorimetro"
   ]
  },
  {
   "cell_type": "code",
   "execution_count": 23,
   "metadata": {},
   "outputs": [],
   "source": [
    "def c_calorimetro(tabla):\n",
    "    m1 = tabla.iloc[0]['EXP1':]\n",
    "    m2 = tabla.iloc[1]['EXP1':]\n",
    "    t1 = tabla.iloc[2]['EXP1':]\n",
    "    t2 = tabla.iloc[3]['EXP1':]\n",
    "    t3 = tabla.iloc[4]['EXP1':]\n",
    "    \n",
    "    numerador = (m2 * (t3 - t2)) + (m1 * (t3 - t1))\n",
    "    denominador = t1 - t3  \n",
    "    return numerador / denominador "
   ]
  },
  {
   "cell_type": "code",
   "execution_count": 31,
   "metadata": {},
   "outputs": [
    {
     "data": {
      "text/plain": [
       "EXP1      18.2525\n",
       "EXP2    15.444286\n",
       "EXP3       19.595\n",
       "dtype: object"
      ]
     },
     "execution_count": 31,
     "metadata": {},
     "output_type": "execute_result"
    }
   ],
   "source": [
    "c_calorimetro(calorimetro)"
   ]
  },
  {
   "cell_type": "code",
   "execution_count": 30,
   "metadata": {},
   "outputs": [
    {
     "name": "stdout",
     "output_type": "stream",
     "text": [
      "17.76\n",
      "Calor específico del calorímetro: 17.76 ± 1.73 cal/°C\n"
     ]
    }
   ],
   "source": [
    "calorimetro_mean = round(np.mean(c_calorimetro(calorimetro)), 2)\n",
    "calorimetro_std = round(np.std(c_calorimetro(calorimetro)), 2)\n",
    "\n",
    "print('Calor específico del calorímetro: {} ± {} cal/°C'.format(\n",
    "    calorimetro_mean, calorimetro_std\n",
    "))"
   ]
  },
  {
   "cell_type": "markdown",
   "metadata": {},
   "source": [
    "La unidad es cal/°C porque en el calorímetro la capacidad calórica no depende de la masa."
   ]
  },
  {
   "cell_type": "markdown",
   "metadata": {},
   "source": [
    "### Calcular el Coeficiente para el Cobre"
   ]
  },
  {
   "cell_type": "code",
   "execution_count": 34,
   "metadata": {},
   "outputs": [
    {
     "data": {
      "text/html": [
       "<div>\n",
       "<style scoped>\n",
       "    .dataframe tbody tr th:only-of-type {\n",
       "        vertical-align: middle;\n",
       "    }\n",
       "\n",
       "    .dataframe tbody tr th {\n",
       "        vertical-align: top;\n",
       "    }\n",
       "\n",
       "    .dataframe thead th {\n",
       "        text-align: right;\n",
       "    }\n",
       "</style>\n",
       "<table border=\"1\" class=\"dataframe\">\n",
       "  <thead>\n",
       "    <tr style=\"text-align: right;\">\n",
       "      <th></th>\n",
       "      <th>Sigla</th>\n",
       "      <th>Unidad</th>\n",
       "      <th>EXP1</th>\n",
       "      <th>EXP2</th>\n",
       "      <th>EXP3</th>\n",
       "    </tr>\n",
       "    <tr>\n",
       "      <th>DATOS COBRE</th>\n",
       "      <th></th>\n",
       "      <th></th>\n",
       "      <th></th>\n",
       "      <th></th>\n",
       "      <th></th>\n",
       "    </tr>\n",
       "  </thead>\n",
       "  <tbody>\n",
       "    <tr>\n",
       "      <th>Masa agua fría</th>\n",
       "      <td>m1</td>\n",
       "      <td>g</td>\n",
       "      <td>95.51</td>\n",
       "      <td>92.86</td>\n",
       "      <td>92.63</td>\n",
       "    </tr>\n",
       "    <tr>\n",
       "      <th>Masa del cobre</th>\n",
       "      <td>mCu</td>\n",
       "      <td>g</td>\n",
       "      <td>95.16</td>\n",
       "      <td>95.16</td>\n",
       "      <td>95.16</td>\n",
       "    </tr>\n",
       "    <tr>\n",
       "      <th>Masa agua caliente</th>\n",
       "      <td>m2</td>\n",
       "      <td>g</td>\n",
       "      <td>92.39</td>\n",
       "      <td>98.26</td>\n",
       "      <td>90.41</td>\n",
       "    </tr>\n",
       "    <tr>\n",
       "      <th>Temperatura agua fría</th>\n",
       "      <td>T1</td>\n",
       "      <td>°C</td>\n",
       "      <td>20.00</td>\n",
       "      <td>23.00</td>\n",
       "      <td>24.00</td>\n",
       "    </tr>\n",
       "    <tr>\n",
       "      <th>Temperatura agua caliente</th>\n",
       "      <td>T2</td>\n",
       "      <td>°C</td>\n",
       "      <td>67.00</td>\n",
       "      <td>63.00</td>\n",
       "      <td>56.00</td>\n",
       "    </tr>\n",
       "    <tr>\n",
       "      <th>Temperatura de la mezcla</th>\n",
       "      <td>T3</td>\n",
       "      <td>°C</td>\n",
       "      <td>41.00</td>\n",
       "      <td>42.00</td>\n",
       "      <td>38.00</td>\n",
       "    </tr>\n",
       "  </tbody>\n",
       "</table>\n",
       "</div>"
      ],
      "text/plain": [
       "                          Sigla Unidad   EXP1   EXP2   EXP3\n",
       "DATOS COBRE                                                \n",
       "Masa agua fría               m1      g  95.51  92.86  92.63\n",
       "Masa del cobre              mCu      g  95.16  95.16  95.16\n",
       "Masa agua caliente           m2      g  92.39  98.26  90.41\n",
       "Temperatura agua fría        T1     °C  20.00  23.00  24.00\n",
       "Temperatura agua caliente    T2     °C  67.00  63.00  56.00\n",
       "Temperatura de la mezcla     T3     °C  41.00  42.00  38.00"
      ]
     },
     "execution_count": 34,
     "metadata": {},
     "output_type": "execute_result"
    }
   ],
   "source": [
    "path_cobre = 'datos_ck_cobre.csv'\n",
    "cobre = pd.read_csv(filepath_or_buffer=path_cobre, sep=';',index_col=0)\n",
    "cobre"
   ]
  },
  {
   "cell_type": "code",
   "execution_count": 35,
   "metadata": {},
   "outputs": [],
   "source": [
    "def c_cobre(tabla, c_esp_calorimetro):\n",
    "    m1 = tabla.iloc[0]['EXP1':]\n",
    "    m_cu = tabla.iloc[1]['EXP1':]\n",
    "    m2 = tabla.iloc[2]['EXP1':]\n",
    "    t1 = tabla.iloc[3]['EXP1':]\n",
    "    t2 = tabla.iloc[4]['EXP1':]\n",
    "    t3 = tabla.iloc[5]['EXP1':]\n",
    "    \n",
    "    n1 = m2 * (t3 - t2)\n",
    "    n2 = c_esp_calorimetro * (t3 - t1)\n",
    "    n3 = m1 * (t3 - t1)\n",
    "    denominador = m_cu * (t1 - t3)  \n",
    "    return (n1 + n2 + n3) / denominador"
   ]
  },
  {
   "cell_type": "code",
   "execution_count": 37,
   "metadata": {},
   "outputs": [
    {
     "data": {
      "text/plain": [
       "EXP1    0.011745\n",
       "EXP2   -0.021194\n",
       "EXP3     0.06149\n",
       "dtype: object"
      ]
     },
     "execution_count": 37,
     "metadata": {},
     "output_type": "execute_result"
    }
   ],
   "source": [
    "c_cobre(cobre, calorimetro_mean)"
   ]
  },
  {
   "cell_type": "markdown",
   "metadata": {},
   "source": [
    "### Calcular el Coeficiente para el Aluminio"
   ]
  },
  {
   "cell_type": "code",
   "execution_count": 32,
   "metadata": {},
   "outputs": [
    {
     "data": {
      "text/html": [
       "<div>\n",
       "<style scoped>\n",
       "    .dataframe tbody tr th:only-of-type {\n",
       "        vertical-align: middle;\n",
       "    }\n",
       "\n",
       "    .dataframe tbody tr th {\n",
       "        vertical-align: top;\n",
       "    }\n",
       "\n",
       "    .dataframe thead th {\n",
       "        text-align: right;\n",
       "    }\n",
       "</style>\n",
       "<table border=\"1\" class=\"dataframe\">\n",
       "  <thead>\n",
       "    <tr style=\"text-align: right;\">\n",
       "      <th></th>\n",
       "      <th>Sigla</th>\n",
       "      <th>Unidad</th>\n",
       "      <th>EXP1</th>\n",
       "      <th>EXP2</th>\n",
       "      <th>EXP3</th>\n",
       "    </tr>\n",
       "    <tr>\n",
       "      <th>DATOS ALUMINIO</th>\n",
       "      <th></th>\n",
       "      <th></th>\n",
       "      <th></th>\n",
       "      <th></th>\n",
       "      <th></th>\n",
       "    </tr>\n",
       "  </thead>\n",
       "  <tbody>\n",
       "    <tr>\n",
       "      <th>Masa agua fría</th>\n",
       "      <td>m1</td>\n",
       "      <td>g</td>\n",
       "      <td>93.92</td>\n",
       "      <td>96.12</td>\n",
       "      <td>96.93</td>\n",
       "    </tr>\n",
       "    <tr>\n",
       "      <th>Masa del aluminio</th>\n",
       "      <td>mAl</td>\n",
       "      <td>g</td>\n",
       "      <td>18.35</td>\n",
       "      <td>18.35</td>\n",
       "      <td>18.35</td>\n",
       "    </tr>\n",
       "    <tr>\n",
       "      <th>Masa agua caliente</th>\n",
       "      <td>m2</td>\n",
       "      <td>g</td>\n",
       "      <td>89.36</td>\n",
       "      <td>93.28</td>\n",
       "      <td>88.54</td>\n",
       "    </tr>\n",
       "    <tr>\n",
       "      <th>Temperatura agua fría</th>\n",
       "      <td>T1</td>\n",
       "      <td>°C</td>\n",
       "      <td>21.00</td>\n",
       "      <td>23.00</td>\n",
       "      <td>22.00</td>\n",
       "    </tr>\n",
       "    <tr>\n",
       "      <th>Temperatura agua caliente</th>\n",
       "      <td>T2</td>\n",
       "      <td>°C</td>\n",
       "      <td>76.00</td>\n",
       "      <td>71.00</td>\n",
       "      <td>66.00</td>\n",
       "    </tr>\n",
       "    <tr>\n",
       "      <th>Temperatura de la mezcla</th>\n",
       "      <td>T3</td>\n",
       "      <td>°C</td>\n",
       "      <td>45.00</td>\n",
       "      <td>45.00</td>\n",
       "      <td>41.00</td>\n",
       "    </tr>\n",
       "  </tbody>\n",
       "</table>\n",
       "</div>"
      ],
      "text/plain": [
       "                          Sigla Unidad   EXP1   EXP2   EXP3\n",
       "DATOS ALUMINIO                                             \n",
       "Masa agua fría               m1      g  93.92  96.12  96.93\n",
       "Masa del aluminio           mAl      g  18.35  18.35  18.35\n",
       "Masa agua caliente           m2      g  89.36  93.28  88.54\n",
       "Temperatura agua fría        T1     °C  21.00  23.00  22.00\n",
       "Temperatura agua caliente    T2     °C  76.00  71.00  66.00\n",
       "Temperatura de la mezcla     T3     °C  45.00  45.00  41.00"
      ]
     },
     "execution_count": 32,
     "metadata": {},
     "output_type": "execute_result"
    }
   ],
   "source": [
    "path_aluminio = 'datos_ck_aluminio.csv'\n",
    "aluminio = pd.read_csv(filepath_or_buffer=path_aluminio, sep=';',index_col=0)\n",
    "aluminio"
   ]
  }
 ],
 "metadata": {
  "kernelspec": {
   "display_name": "Python 3.10.6 64-bit",
   "language": "python",
   "name": "python3"
  },
  "language_info": {
   "codemirror_mode": {
    "name": "ipython",
    "version": 3
   },
   "file_extension": ".py",
   "mimetype": "text/x-python",
   "name": "python",
   "nbconvert_exporter": "python",
   "pygments_lexer": "ipython3",
   "version": "3.10.6"
  },
  "orig_nbformat": 4,
  "vscode": {
   "interpreter": {
    "hash": "8e7afcb160a0c66e121f2af697e3c7fecc1c6c21720499e332272532fe48572b"
   }
  }
 },
 "nbformat": 4,
 "nbformat_minor": 2
}
